{
  "nbformat": 4,
  "nbformat_minor": 0,
  "metadata": {
    "colab": {
      "provenance": [],
      "authorship_tag": "ABX9TyN792mDRHE2X6ha/F6r+ltc",
      "include_colab_link": true
    },
    "kernelspec": {
      "name": "python3",
      "display_name": "Python 3"
    },
    "language_info": {
      "name": "python"
    }
  },
  "cells": [
    {
      "cell_type": "markdown",
      "metadata": {
        "id": "view-in-github",
        "colab_type": "text"
      },
      "source": [
        "<a href=\"https://colab.research.google.com/github/ataulhaque/ML/blob/main/Non_Parametric_Kruskal_Wallis_Mann_Whitney.ipynb\" target=\"_parent\"><img src=\"https://colab.research.google.com/assets/colab-badge.svg\" alt=\"Open In Colab\"/></a>"
      ]
    },
    {
      "cell_type": "code",
      "execution_count": 13,
      "metadata": {
        "colab": {
          "base_uri": "https://localhost:8080/"
        },
        "id": "fsQrsL-CmClU",
        "outputId": "39b3147a-6f0e-4ee9-a33d-2a5b85813640"
      },
      "outputs": [
        {
          "output_type": "stream",
          "name": "stdout",
          "text": [
            "Kruskal-Wallis Test Results:\n",
            "Test Statistic: 716.1550864769308\n",
            "P-value: 8.079896027452026e-106\n"
          ]
        }
      ],
      "source": [
        "import scipy.stats as stats\n",
        "import pandas as pd\n",
        "import numpy as np\n",
        "import matplotlib.pyplot as plt\n",
        "import seaborn as sns\n",
        "\n",
        "spotify_sample = pd.read_csv('spotify_sample.csv')\n",
        "#perform Kruskal-Wallis test on danceability grouped by track_genre\n",
        "grouped_data = [group['danceability'].values for name, group in spotify_sample.groupby('track_genre')]\n",
        "stat, p_value = stats.kruskal(*grouped_data)\n",
        "print(\"Kruskal-Wallis Test Results:\")\n",
        "print(\"Test Statistic:\", stat)\n",
        "print(\"P-value:\", p_value)"
      ]
    },
    {
      "cell_type": "code",
      "source": [
        "#Perform Mann-Whitney test on 'energy' for Pop versus Rock\n",
        "group1 = spotify_sample[spotify_sample['track_genre'] == 'pop']['energy']\n",
        "group2 = spotify_sample[spotify_sample['track_genre'] == 'rock']['energy']\n",
        "stat, p_value = stats.mannwhitneyu(group1, group2)\n",
        "print(\"Mann-Whitney U Test Results:\")\n",
        "print(\"Test Statistic:\", stat)\n",
        "print(\"P-value:\", p_value)\n",
        "\n",
        "\n"
      ],
      "metadata": {
        "colab": {
          "base_uri": "https://localhost:8080/"
        },
        "id": "FAsibs21nPgY",
        "outputId": "70b58344-31d7-4470-b8a3-89f46f6ea35b"
      },
      "execution_count": 14,
      "outputs": [
        {
          "output_type": "stream",
          "name": "stdout",
          "text": [
            "Mann-Whitney U Test Results:\n",
            "Test Statistic: 1331.5\n",
            "P-value: 0.006209251182150305\n"
          ]
        }
      ]
    },
    {
      "cell_type": "code",
      "source": [],
      "metadata": {
        "id": "z2Y04gxrpSBw"
      },
      "execution_count": null,
      "outputs": []
    }
  ]
}