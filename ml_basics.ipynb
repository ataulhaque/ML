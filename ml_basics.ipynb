{
  "nbformat": 4,
  "nbformat_minor": 0,
  "metadata": {
    "colab": {
      "provenance": [],
      "authorship_tag": "ABX9TyMd5/E55BN2wCSVkXDXggdi",
      "include_colab_link": true
    },
    "kernelspec": {
      "name": "python3",
      "display_name": "Python 3"
    },
    "language_info": {
      "name": "python"
    }
  },
  "cells": [
    {
      "cell_type": "markdown",
      "metadata": {
        "id": "view-in-github",
        "colab_type": "text"
      },
      "source": [
        "<a href=\"https://colab.research.google.com/github/ataulhaque/ML/blob/main/ml_basics.ipynb\" target=\"_parent\"><img src=\"https://colab.research.google.com/assets/colab-badge.svg\" alt=\"Open In Colab\"/></a>"
      ]
    },
    {
      "cell_type": "code",
      "execution_count": null,
      "metadata": {
        "colab": {
          "base_uri": "https://localhost:8080/"
        },
        "id": "oj0VFzDAd5Zv",
        "outputId": "4171597f-5dcc-4e12-b076-3f67d06d40f5"
      },
      "outputs": [
        {
          "output_type": "stream",
          "name": "stdout",
          "text": [
            "tensor([[ 60,  55,  50, 110],\n",
            "        [ 90,  54,  54, 126],\n",
            "        [ 42,  29,  28,  64]])\n"
          ]
        }
      ],
      "source": [
        "import torch\n",
        "\n",
        "#Create two matrix\n",
        "matrix1 = torch.tensor([\n",
        "    [2,8],\n",
        "    [5,1],\n",
        "    [4,2],\n",
        "    [8,6],\n",
        "])\n",
        "\n",
        "matrix2 = torch.tensor([\n",
        "    [10,5],\n",
        "    [9,9],\n",
        "    [5,4],\n",
        "])\n",
        "\n",
        "#Perform matrix multiplication\n",
        "result = torch.matmul(matrix1, matrix2.T)\n",
        "\n",
        "#Print the result\n",
        "print(result.T)"
      ]
    },
    {
      "cell_type": "code",
      "source": [],
      "metadata": {
        "id": "JL4UgaBGep__"
      },
      "execution_count": null,
      "outputs": []
    }
  ]
}