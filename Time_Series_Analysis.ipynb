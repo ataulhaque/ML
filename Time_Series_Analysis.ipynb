{
  "nbformat": 4,
  "nbformat_minor": 0,
  "metadata": {
    "colab": {
      "provenance": [],
      "authorship_tag": "ABX9TyMBBGoyjC5mmdxbIe/pPzMJ",
      "include_colab_link": true
    },
    "kernelspec": {
      "name": "python3",
      "display_name": "Python 3"
    },
    "language_info": {
      "name": "python"
    }
  },
  "cells": [
    {
      "cell_type": "markdown",
      "metadata": {
        "id": "view-in-github",
        "colab_type": "text"
      },
      "source": [
        "<a href=\"https://colab.research.google.com/github/ataulhaque/ML/blob/main/Time_Series_Analysis.ipynb\" target=\"_parent\"><img src=\"https://colab.research.google.com/assets/colab-badge.svg\" alt=\"Open In Colab\"/></a>"
      ]
    },
    {
      "cell_type": "code",
      "execution_count": null,
      "metadata": {
        "id": "bA9P7-C2Y6pk",
        "colab": {
          "base_uri": "https://localhost:8080/"
        },
        "outputId": "061e109d-4bd5-450e-e492-85f601bf7418"
      },
      "outputs": [
        {
          "output_type": "stream",
          "name": "stdout",
          "text": [
            "2024-01-01    0.230798\n",
            "2024-01-02    2.300428\n",
            "2024-01-03    1.511874\n",
            "dtype: float64\n",
            "DatetimeIndex(['2024-01-01', '2024-01-02', '2024-01-03'], dtype='datetime64[ns]', freq=None)\n",
            "2024-01-01 00:00:00\n",
            "2024-01-02 00:00:00\n",
            "2024-01-03 00:00:00\n",
            "2024\n",
            "1\n",
            "1\n",
            "2024-01-01    0.230798\n",
            "2024-01-02    2.300428\n",
            "2024-01-03    1.511874\n",
            "dtype: float64\n"
          ]
        }
      ],
      "source": [
        "import pandas as pd\n",
        "import numpy as np\n",
        "\n",
        "date = [pd.Timestamp('2024-01-01'),\n",
        "        pd.Timestamp('2024-01-02'),\n",
        "        pd.Timestamp('2024-01-03')]\n",
        "timeSeries = pd.Series(np.random.randn(3), index=date)\n",
        "print(timeSeries)\n",
        "\n",
        "print(timeSeries.index)\n",
        "print(timeSeries.index[0])\n",
        "print(timeSeries.index[1])\n",
        "print(timeSeries.index[2])\n",
        "\n",
        "print(timeSeries.index[0].year)\n",
        "print(timeSeries.index[0].month)\n",
        "print(timeSeries.index[0].day)\n",
        "print(timeSeries['2024-01-01':'2024-01-03'])\n",
        "\n",
        "#DatetimeIndex(['2024-01-01', '2024-01-02', '2024-01-03'], dtype='datetime64[ns]', freq=None)"
      ]
    },
    {
      "cell_type": "code",
      "source": [
        "pd.date_range('2024-01-01', '2024-01-19', freq='B') #B is business days\n",
        "pd.date_range('2024-01-01', '2024-01-19', freq='D') #D is days\n",
        "pd.date_range('2024-01-01', '2024-01-19', freq='W') #W is weeks\n",
        "pd.date_range('2024-01-01', periods=3, freq='H')\n",
        "pd.date_range('2024-01-01', periods=3, freq='T')\n",
        "pd.date_range('2024-01-01', periods=3, freq='S')"
      ],
      "metadata": {
        "colab": {
          "base_uri": "https://localhost:8080/"
        },
        "id": "09uT1HpWraXH",
        "outputId": "55ced55d-674a-46b6-ba70-0026aa1383a5"
      },
      "execution_count": null,
      "outputs": [
        {
          "output_type": "execute_result",
          "data": {
            "text/plain": [
              "DatetimeIndex(['2024-01-01 00:00:00', '2024-01-01 00:00:01',\n",
              "               '2024-01-01 00:00:02'],\n",
              "              dtype='datetime64[ns]', freq='S')"
            ]
          },
          "metadata": {},
          "execution_count": 13
        }
      ]
    },
    {
      "cell_type": "code",
      "source": [
        "import pandas as pd\n",
        "pd.date_range('2024-01-01', periods=5, freq='1D1h1min10s')"
      ],
      "metadata": {
        "colab": {
          "base_uri": "https://localhost:8080/"
        },
        "id": "ChHUNuMvuBKi",
        "outputId": "b797ae4f-ffc6-433b-f802-7e7682e1c2bb"
      },
      "execution_count": null,
      "outputs": [
        {
          "output_type": "execute_result",
          "data": {
            "text/plain": [
              "DatetimeIndex(['2024-01-01 00:00:00', '2024-01-02 01:01:10',\n",
              "               '2024-01-03 02:02:20', '2024-01-04 03:03:30',\n",
              "               '2024-01-05 04:04:40'],\n",
              "              dtype='datetime64[ns]', freq='90070S')"
            ]
          },
          "metadata": {},
          "execution_count": 14
        }
      ]
    },
    {
      "cell_type": "code",
      "source": [
        "pd.date_range(start='2024-01-01', periods=5, freq='W-FRI')"
      ],
      "metadata": {
        "colab": {
          "base_uri": "https://localhost:8080/"
        },
        "id": "oX9hk7_CvZaR",
        "outputId": "5cbbc64f-2e60-4000-8b57-ac3d2333db28"
      },
      "execution_count": null,
      "outputs": [
        {
          "output_type": "execute_result",
          "data": {
            "text/plain": [
              "DatetimeIndex(['2024-01-05', '2024-01-12', '2024-01-19', '2024-01-26',\n",
              "               '2024-02-02'],\n",
              "              dtype='datetime64[ns]', freq='W-FRI')"
            ]
          },
          "metadata": {},
          "execution_count": 15
        }
      ]
    },
    {
      "cell_type": "code",
      "source": [
        "#combine different dates\n",
        "a = pd.date_range('2024-01-01', periods=10, freq='BAS-JAN')\n",
        "b = pd.date_range('2024-01-01', periods=10, freq='A-FEB')\n",
        "a.union(b)"
      ],
      "metadata": {
        "colab": {
          "base_uri": "https://localhost:8080/"
        },
        "id": "diuUmHMLvwTI",
        "outputId": "414a3034-f29c-46ac-fb28-021dca5c360d"
      },
      "execution_count": null,
      "outputs": [
        {
          "output_type": "execute_result",
          "data": {
            "text/plain": [
              "DatetimeIndex(['2024-01-01', '2024-02-29', '2025-01-01', '2025-02-28',\n",
              "               '2026-01-01', '2026-02-28', '2027-01-01', '2027-02-28',\n",
              "               '2028-01-03', '2028-02-29', '2029-01-01', '2029-02-28',\n",
              "               '2030-01-01', '2030-02-28', '2031-01-01', '2031-02-28',\n",
              "               '2032-01-01', '2032-02-29', '2033-01-03', '2033-02-28'],\n",
              "              dtype='datetime64[ns]', freq=None)"
            ]
          },
          "metadata": {},
          "execution_count": 16
        }
      ]
    },
    {
      "cell_type": "code",
      "source": [
        "import pandas as pd\n",
        "dataFrame = pd.read_csv('dow_jones_index.data',parse_dates=[\"date\"], index_col=\"date\")\n",
        "dataFrame.head(15)"
      ],
      "metadata": {
        "colab": {
          "base_uri": "https://localhost:8080/",
          "height": 1000
        },
        "id": "xdVlRLpV8HAc",
        "outputId": "aab12f78-159a-4de5-c3a8-8f325e504996"
      },
      "execution_count": null,
      "outputs": [
        {
          "output_type": "execute_result",
          "data": {
            "text/plain": [
              "            quarter stock    open    high     low   close     volume  \\\n",
              "date                                                                   \n",
              "2011-01-07        1    AA  $15.82  $16.72  $15.78  $16.42  239655616   \n",
              "2011-01-14        1    AA  $16.71  $16.71  $15.64  $15.97  242963398   \n",
              "2011-01-21        1    AA  $16.19  $16.38  $15.60  $15.79  138428495   \n",
              "2011-01-28        1    AA  $15.87  $16.63  $15.82  $16.13  151379173   \n",
              "2011-02-04        1    AA  $16.18  $17.39  $16.18  $17.14  154387761   \n",
              "2011-02-11        1    AA  $17.33  $17.48  $16.97  $17.37  114691279   \n",
              "2011-02-18        1    AA  $17.39  $17.68  $17.28  $17.28   80023895   \n",
              "2011-02-25        1    AA  $16.98  $17.15  $15.96  $16.68  132981863   \n",
              "2011-03-04        1    AA  $16.81  $16.94  $16.13  $16.58  109493077   \n",
              "2011-03-11        1    AA  $16.58  $16.75  $15.42  $16.03  114332562   \n",
              "2011-03-18        1    AA  $15.95  $16.33  $15.43  $16.11  130374108   \n",
              "2011-03-25        1    AA  $16.38  $17.24  $16.26  $17.09   95550392   \n",
              "2011-01-07        1   AXP  $43.30  $45.60  $43.11  $44.36   45102042   \n",
              "2011-01-14        1   AXP  $44.20  $46.25  $44.01  $46.25   25913713   \n",
              "2011-01-21        1   AXP  $46.03  $46.71  $44.71  $46.00   38824728   \n",
              "\n",
              "            percent_change_price  percent_change_volume_over_last_wk  \\\n",
              "date                                                                   \n",
              "2011-01-07              3.792670                                 NaN   \n",
              "2011-01-14             -4.428490                            1.380223   \n",
              "2011-01-21             -2.470660                          -43.024959   \n",
              "2011-01-28              1.638310                            9.355500   \n",
              "2011-02-04              5.933250                            1.987452   \n",
              "2011-02-11              0.230814                          -25.712195   \n",
              "2011-02-18             -0.632547                          -30.226696   \n",
              "2011-02-25             -1.766780                           66.177694   \n",
              "2011-03-04             -1.368230                          -17.663150   \n",
              "2011-03-11             -3.317250                            4.419900   \n",
              "2011-03-18              1.003130                           14.030601   \n",
              "2011-03-25              4.334550                          -26.710607   \n",
              "2011-01-07              2.448040                                 NaN   \n",
              "2011-01-14              4.638010                          -42.544258   \n",
              "2011-01-21             -0.065175                           49.823099   \n",
              "\n",
              "            previous_weeks_volume next_weeks_open next_weeks_close  \\\n",
              "date                                                                 \n",
              "2011-01-07                    NaN          $16.71           $15.97   \n",
              "2011-01-14            239655616.0          $16.19           $15.79   \n",
              "2011-01-21            242963398.0          $15.87           $16.13   \n",
              "2011-01-28            138428495.0          $16.18           $17.14   \n",
              "2011-02-04            151379173.0          $17.33           $17.37   \n",
              "2011-02-11            154387761.0          $17.39           $17.28   \n",
              "2011-02-18            114691279.0          $16.98           $16.68   \n",
              "2011-02-25             80023895.0          $16.81           $16.58   \n",
              "2011-03-04            132981863.0          $16.58           $16.03   \n",
              "2011-03-11            109493077.0          $15.95           $16.11   \n",
              "2011-03-18            114332562.0          $16.38           $17.09   \n",
              "2011-03-25            130374108.0          $17.13           $17.47   \n",
              "2011-01-07                    NaN          $44.20           $46.25   \n",
              "2011-01-14             45102042.0          $46.03           $46.00   \n",
              "2011-01-21             25913713.0          $46.05           $43.86   \n",
              "\n",
              "            percent_change_next_weeks_price  days_to_next_dividend  \\\n",
              "date                                                                 \n",
              "2011-01-07                        -4.428490                     26   \n",
              "2011-01-14                        -2.470660                     19   \n",
              "2011-01-21                         1.638310                     12   \n",
              "2011-01-28                         5.933250                      5   \n",
              "2011-02-04                         0.230814                     97   \n",
              "2011-02-11                        -0.632547                     90   \n",
              "2011-02-18                        -1.766780                     83   \n",
              "2011-02-25                        -1.368230                     76   \n",
              "2011-03-04                        -3.317250                     69   \n",
              "2011-03-11                         1.003130                     62   \n",
              "2011-03-18                         4.334550                     55   \n",
              "2011-03-25                         1.984820                     48   \n",
              "2011-01-07                         4.638010                     89   \n",
              "2011-01-14                        -0.065175                     82   \n",
              "2011-01-21                        -4.755700                     75   \n",
              "\n",
              "            percent_return_next_dividend  \n",
              "date                                      \n",
              "2011-01-07                      0.182704  \n",
              "2011-01-14                      0.187852  \n",
              "2011-01-21                      0.189994  \n",
              "2011-01-28                      0.185989  \n",
              "2011-02-04                      0.175029  \n",
              "2011-02-11                      0.172712  \n",
              "2011-02-18                      0.173611  \n",
              "2011-02-25                      0.179856  \n",
              "2011-03-04                      0.180941  \n",
              "2011-03-11                      0.187149  \n",
              "2011-03-18                      0.186220  \n",
              "2011-03-25                      0.175541  \n",
              "2011-01-07                      0.405771  \n",
              "2011-01-14                      0.389189  \n",
              "2011-01-21                      0.391304  "
            ],
            "text/html": [
              "\n",
              "  <div id=\"df-2b168f98-be08-4c04-a4ce-1a4d91022b2e\" class=\"colab-df-container\">\n",
              "    <div>\n",
              "<style scoped>\n",
              "    .dataframe tbody tr th:only-of-type {\n",
              "        vertical-align: middle;\n",
              "    }\n",
              "\n",
              "    .dataframe tbody tr th {\n",
              "        vertical-align: top;\n",
              "    }\n",
              "\n",
              "    .dataframe thead th {\n",
              "        text-align: right;\n",
              "    }\n",
              "</style>\n",
              "<table border=\"1\" class=\"dataframe\">\n",
              "  <thead>\n",
              "    <tr style=\"text-align: right;\">\n",
              "      <th></th>\n",
              "      <th>quarter</th>\n",
              "      <th>stock</th>\n",
              "      <th>open</th>\n",
              "      <th>high</th>\n",
              "      <th>low</th>\n",
              "      <th>close</th>\n",
              "      <th>volume</th>\n",
              "      <th>percent_change_price</th>\n",
              "      <th>percent_change_volume_over_last_wk</th>\n",
              "      <th>previous_weeks_volume</th>\n",
              "      <th>next_weeks_open</th>\n",
              "      <th>next_weeks_close</th>\n",
              "      <th>percent_change_next_weeks_price</th>\n",
              "      <th>days_to_next_dividend</th>\n",
              "      <th>percent_return_next_dividend</th>\n",
              "    </tr>\n",
              "    <tr>\n",
              "      <th>date</th>\n",
              "      <th></th>\n",
              "      <th></th>\n",
              "      <th></th>\n",
              "      <th></th>\n",
              "      <th></th>\n",
              "      <th></th>\n",
              "      <th></th>\n",
              "      <th></th>\n",
              "      <th></th>\n",
              "      <th></th>\n",
              "      <th></th>\n",
              "      <th></th>\n",
              "      <th></th>\n",
              "      <th></th>\n",
              "      <th></th>\n",
              "    </tr>\n",
              "  </thead>\n",
              "  <tbody>\n",
              "    <tr>\n",
              "      <th>2011-01-07</th>\n",
              "      <td>1</td>\n",
              "      <td>AA</td>\n",
              "      <td>$15.82</td>\n",
              "      <td>$16.72</td>\n",
              "      <td>$15.78</td>\n",
              "      <td>$16.42</td>\n",
              "      <td>239655616</td>\n",
              "      <td>3.792670</td>\n",
              "      <td>NaN</td>\n",
              "      <td>NaN</td>\n",
              "      <td>$16.71</td>\n",
              "      <td>$15.97</td>\n",
              "      <td>-4.428490</td>\n",
              "      <td>26</td>\n",
              "      <td>0.182704</td>\n",
              "    </tr>\n",
              "    <tr>\n",
              "      <th>2011-01-14</th>\n",
              "      <td>1</td>\n",
              "      <td>AA</td>\n",
              "      <td>$16.71</td>\n",
              "      <td>$16.71</td>\n",
              "      <td>$15.64</td>\n",
              "      <td>$15.97</td>\n",
              "      <td>242963398</td>\n",
              "      <td>-4.428490</td>\n",
              "      <td>1.380223</td>\n",
              "      <td>239655616.0</td>\n",
              "      <td>$16.19</td>\n",
              "      <td>$15.79</td>\n",
              "      <td>-2.470660</td>\n",
              "      <td>19</td>\n",
              "      <td>0.187852</td>\n",
              "    </tr>\n",
              "    <tr>\n",
              "      <th>2011-01-21</th>\n",
              "      <td>1</td>\n",
              "      <td>AA</td>\n",
              "      <td>$16.19</td>\n",
              "      <td>$16.38</td>\n",
              "      <td>$15.60</td>\n",
              "      <td>$15.79</td>\n",
              "      <td>138428495</td>\n",
              "      <td>-2.470660</td>\n",
              "      <td>-43.024959</td>\n",
              "      <td>242963398.0</td>\n",
              "      <td>$15.87</td>\n",
              "      <td>$16.13</td>\n",
              "      <td>1.638310</td>\n",
              "      <td>12</td>\n",
              "      <td>0.189994</td>\n",
              "    </tr>\n",
              "    <tr>\n",
              "      <th>2011-01-28</th>\n",
              "      <td>1</td>\n",
              "      <td>AA</td>\n",
              "      <td>$15.87</td>\n",
              "      <td>$16.63</td>\n",
              "      <td>$15.82</td>\n",
              "      <td>$16.13</td>\n",
              "      <td>151379173</td>\n",
              "      <td>1.638310</td>\n",
              "      <td>9.355500</td>\n",
              "      <td>138428495.0</td>\n",
              "      <td>$16.18</td>\n",
              "      <td>$17.14</td>\n",
              "      <td>5.933250</td>\n",
              "      <td>5</td>\n",
              "      <td>0.185989</td>\n",
              "    </tr>\n",
              "    <tr>\n",
              "      <th>2011-02-04</th>\n",
              "      <td>1</td>\n",
              "      <td>AA</td>\n",
              "      <td>$16.18</td>\n",
              "      <td>$17.39</td>\n",
              "      <td>$16.18</td>\n",
              "      <td>$17.14</td>\n",
              "      <td>154387761</td>\n",
              "      <td>5.933250</td>\n",
              "      <td>1.987452</td>\n",
              "      <td>151379173.0</td>\n",
              "      <td>$17.33</td>\n",
              "      <td>$17.37</td>\n",
              "      <td>0.230814</td>\n",
              "      <td>97</td>\n",
              "      <td>0.175029</td>\n",
              "    </tr>\n",
              "    <tr>\n",
              "      <th>2011-02-11</th>\n",
              "      <td>1</td>\n",
              "      <td>AA</td>\n",
              "      <td>$17.33</td>\n",
              "      <td>$17.48</td>\n",
              "      <td>$16.97</td>\n",
              "      <td>$17.37</td>\n",
              "      <td>114691279</td>\n",
              "      <td>0.230814</td>\n",
              "      <td>-25.712195</td>\n",
              "      <td>154387761.0</td>\n",
              "      <td>$17.39</td>\n",
              "      <td>$17.28</td>\n",
              "      <td>-0.632547</td>\n",
              "      <td>90</td>\n",
              "      <td>0.172712</td>\n",
              "    </tr>\n",
              "    <tr>\n",
              "      <th>2011-02-18</th>\n",
              "      <td>1</td>\n",
              "      <td>AA</td>\n",
              "      <td>$17.39</td>\n",
              "      <td>$17.68</td>\n",
              "      <td>$17.28</td>\n",
              "      <td>$17.28</td>\n",
              "      <td>80023895</td>\n",
              "      <td>-0.632547</td>\n",
              "      <td>-30.226696</td>\n",
              "      <td>114691279.0</td>\n",
              "      <td>$16.98</td>\n",
              "      <td>$16.68</td>\n",
              "      <td>-1.766780</td>\n",
              "      <td>83</td>\n",
              "      <td>0.173611</td>\n",
              "    </tr>\n",
              "    <tr>\n",
              "      <th>2011-02-25</th>\n",
              "      <td>1</td>\n",
              "      <td>AA</td>\n",
              "      <td>$16.98</td>\n",
              "      <td>$17.15</td>\n",
              "      <td>$15.96</td>\n",
              "      <td>$16.68</td>\n",
              "      <td>132981863</td>\n",
              "      <td>-1.766780</td>\n",
              "      <td>66.177694</td>\n",
              "      <td>80023895.0</td>\n",
              "      <td>$16.81</td>\n",
              "      <td>$16.58</td>\n",
              "      <td>-1.368230</td>\n",
              "      <td>76</td>\n",
              "      <td>0.179856</td>\n",
              "    </tr>\n",
              "    <tr>\n",
              "      <th>2011-03-04</th>\n",
              "      <td>1</td>\n",
              "      <td>AA</td>\n",
              "      <td>$16.81</td>\n",
              "      <td>$16.94</td>\n",
              "      <td>$16.13</td>\n",
              "      <td>$16.58</td>\n",
              "      <td>109493077</td>\n",
              "      <td>-1.368230</td>\n",
              "      <td>-17.663150</td>\n",
              "      <td>132981863.0</td>\n",
              "      <td>$16.58</td>\n",
              "      <td>$16.03</td>\n",
              "      <td>-3.317250</td>\n",
              "      <td>69</td>\n",
              "      <td>0.180941</td>\n",
              "    </tr>\n",
              "    <tr>\n",
              "      <th>2011-03-11</th>\n",
              "      <td>1</td>\n",
              "      <td>AA</td>\n",
              "      <td>$16.58</td>\n",
              "      <td>$16.75</td>\n",
              "      <td>$15.42</td>\n",
              "      <td>$16.03</td>\n",
              "      <td>114332562</td>\n",
              "      <td>-3.317250</td>\n",
              "      <td>4.419900</td>\n",
              "      <td>109493077.0</td>\n",
              "      <td>$15.95</td>\n",
              "      <td>$16.11</td>\n",
              "      <td>1.003130</td>\n",
              "      <td>62</td>\n",
              "      <td>0.187149</td>\n",
              "    </tr>\n",
              "    <tr>\n",
              "      <th>2011-03-18</th>\n",
              "      <td>1</td>\n",
              "      <td>AA</td>\n",
              "      <td>$15.95</td>\n",
              "      <td>$16.33</td>\n",
              "      <td>$15.43</td>\n",
              "      <td>$16.11</td>\n",
              "      <td>130374108</td>\n",
              "      <td>1.003130</td>\n",
              "      <td>14.030601</td>\n",
              "      <td>114332562.0</td>\n",
              "      <td>$16.38</td>\n",
              "      <td>$17.09</td>\n",
              "      <td>4.334550</td>\n",
              "      <td>55</td>\n",
              "      <td>0.186220</td>\n",
              "    </tr>\n",
              "    <tr>\n",
              "      <th>2011-03-25</th>\n",
              "      <td>1</td>\n",
              "      <td>AA</td>\n",
              "      <td>$16.38</td>\n",
              "      <td>$17.24</td>\n",
              "      <td>$16.26</td>\n",
              "      <td>$17.09</td>\n",
              "      <td>95550392</td>\n",
              "      <td>4.334550</td>\n",
              "      <td>-26.710607</td>\n",
              "      <td>130374108.0</td>\n",
              "      <td>$17.13</td>\n",
              "      <td>$17.47</td>\n",
              "      <td>1.984820</td>\n",
              "      <td>48</td>\n",
              "      <td>0.175541</td>\n",
              "    </tr>\n",
              "    <tr>\n",
              "      <th>2011-01-07</th>\n",
              "      <td>1</td>\n",
              "      <td>AXP</td>\n",
              "      <td>$43.30</td>\n",
              "      <td>$45.60</td>\n",
              "      <td>$43.11</td>\n",
              "      <td>$44.36</td>\n",
              "      <td>45102042</td>\n",
              "      <td>2.448040</td>\n",
              "      <td>NaN</td>\n",
              "      <td>NaN</td>\n",
              "      <td>$44.20</td>\n",
              "      <td>$46.25</td>\n",
              "      <td>4.638010</td>\n",
              "      <td>89</td>\n",
              "      <td>0.405771</td>\n",
              "    </tr>\n",
              "    <tr>\n",
              "      <th>2011-01-14</th>\n",
              "      <td>1</td>\n",
              "      <td>AXP</td>\n",
              "      <td>$44.20</td>\n",
              "      <td>$46.25</td>\n",
              "      <td>$44.01</td>\n",
              "      <td>$46.25</td>\n",
              "      <td>25913713</td>\n",
              "      <td>4.638010</td>\n",
              "      <td>-42.544258</td>\n",
              "      <td>45102042.0</td>\n",
              "      <td>$46.03</td>\n",
              "      <td>$46.00</td>\n",
              "      <td>-0.065175</td>\n",
              "      <td>82</td>\n",
              "      <td>0.389189</td>\n",
              "    </tr>\n",
              "    <tr>\n",
              "      <th>2011-01-21</th>\n",
              "      <td>1</td>\n",
              "      <td>AXP</td>\n",
              "      <td>$46.03</td>\n",
              "      <td>$46.71</td>\n",
              "      <td>$44.71</td>\n",
              "      <td>$46.00</td>\n",
              "      <td>38824728</td>\n",
              "      <td>-0.065175</td>\n",
              "      <td>49.823099</td>\n",
              "      <td>25913713.0</td>\n",
              "      <td>$46.05</td>\n",
              "      <td>$43.86</td>\n",
              "      <td>-4.755700</td>\n",
              "      <td>75</td>\n",
              "      <td>0.391304</td>\n",
              "    </tr>\n",
              "  </tbody>\n",
              "</table>\n",
              "</div>\n",
              "    <div class=\"colab-df-buttons\">\n",
              "\n",
              "  <div class=\"colab-df-container\">\n",
              "    <button class=\"colab-df-convert\" onclick=\"convertToInteractive('df-2b168f98-be08-4c04-a4ce-1a4d91022b2e')\"\n",
              "            title=\"Convert this dataframe to an interactive table.\"\n",
              "            style=\"display:none;\">\n",
              "\n",
              "  <svg xmlns=\"http://www.w3.org/2000/svg\" height=\"24px\" viewBox=\"0 -960 960 960\">\n",
              "    <path d=\"M120-120v-720h720v720H120Zm60-500h600v-160H180v160Zm220 220h160v-160H400v160Zm0 220h160v-160H400v160ZM180-400h160v-160H180v160Zm440 0h160v-160H620v160ZM180-180h160v-160H180v160Zm440 0h160v-160H620v160Z\"/>\n",
              "  </svg>\n",
              "    </button>\n",
              "\n",
              "  <style>\n",
              "    .colab-df-container {\n",
              "      display:flex;\n",
              "      gap: 12px;\n",
              "    }\n",
              "\n",
              "    .colab-df-convert {\n",
              "      background-color: #E8F0FE;\n",
              "      border: none;\n",
              "      border-radius: 50%;\n",
              "      cursor: pointer;\n",
              "      display: none;\n",
              "      fill: #1967D2;\n",
              "      height: 32px;\n",
              "      padding: 0 0 0 0;\n",
              "      width: 32px;\n",
              "    }\n",
              "\n",
              "    .colab-df-convert:hover {\n",
              "      background-color: #E2EBFA;\n",
              "      box-shadow: 0px 1px 2px rgba(60, 64, 67, 0.3), 0px 1px 3px 1px rgba(60, 64, 67, 0.15);\n",
              "      fill: #174EA6;\n",
              "    }\n",
              "\n",
              "    .colab-df-buttons div {\n",
              "      margin-bottom: 4px;\n",
              "    }\n",
              "\n",
              "    [theme=dark] .colab-df-convert {\n",
              "      background-color: #3B4455;\n",
              "      fill: #D2E3FC;\n",
              "    }\n",
              "\n",
              "    [theme=dark] .colab-df-convert:hover {\n",
              "      background-color: #434B5C;\n",
              "      box-shadow: 0px 1px 3px 1px rgba(0, 0, 0, 0.15);\n",
              "      filter: drop-shadow(0px 1px 2px rgba(0, 0, 0, 0.3));\n",
              "      fill: #FFFFFF;\n",
              "    }\n",
              "  </style>\n",
              "\n",
              "    <script>\n",
              "      const buttonEl =\n",
              "        document.querySelector('#df-2b168f98-be08-4c04-a4ce-1a4d91022b2e button.colab-df-convert');\n",
              "      buttonEl.style.display =\n",
              "        google.colab.kernel.accessAllowed ? 'block' : 'none';\n",
              "\n",
              "      async function convertToInteractive(key) {\n",
              "        const element = document.querySelector('#df-2b168f98-be08-4c04-a4ce-1a4d91022b2e');\n",
              "        const dataTable =\n",
              "          await google.colab.kernel.invokeFunction('convertToInteractive',\n",
              "                                                    [key], {});\n",
              "        if (!dataTable) return;\n",
              "\n",
              "        const docLinkHtml = 'Like what you see? Visit the ' +\n",
              "          '<a target=\"_blank\" href=https://colab.research.google.com/notebooks/data_table.ipynb>data table notebook</a>'\n",
              "          + ' to learn more about interactive tables.';\n",
              "        element.innerHTML = '';\n",
              "        dataTable['output_type'] = 'display_data';\n",
              "        await google.colab.output.renderOutput(dataTable, element);\n",
              "        const docLink = document.createElement('div');\n",
              "        docLink.innerHTML = docLinkHtml;\n",
              "        element.appendChild(docLink);\n",
              "      }\n",
              "    </script>\n",
              "  </div>\n",
              "\n",
              "\n",
              "<div id=\"df-80acccb3-7e2f-4330-a8ec-6ea077faa797\">\n",
              "  <button class=\"colab-df-quickchart\" onclick=\"quickchart('df-80acccb3-7e2f-4330-a8ec-6ea077faa797')\"\n",
              "            title=\"Suggest charts\"\n",
              "            style=\"display:none;\">\n",
              "\n",
              "<svg xmlns=\"http://www.w3.org/2000/svg\" height=\"24px\"viewBox=\"0 0 24 24\"\n",
              "     width=\"24px\">\n",
              "    <g>\n",
              "        <path d=\"M19 3H5c-1.1 0-2 .9-2 2v14c0 1.1.9 2 2 2h14c1.1 0 2-.9 2-2V5c0-1.1-.9-2-2-2zM9 17H7v-7h2v7zm4 0h-2V7h2v10zm4 0h-2v-4h2v4z\"/>\n",
              "    </g>\n",
              "</svg>\n",
              "  </button>\n",
              "\n",
              "<style>\n",
              "  .colab-df-quickchart {\n",
              "      --bg-color: #E8F0FE;\n",
              "      --fill-color: #1967D2;\n",
              "      --hover-bg-color: #E2EBFA;\n",
              "      --hover-fill-color: #174EA6;\n",
              "      --disabled-fill-color: #AAA;\n",
              "      --disabled-bg-color: #DDD;\n",
              "  }\n",
              "\n",
              "  [theme=dark] .colab-df-quickchart {\n",
              "      --bg-color: #3B4455;\n",
              "      --fill-color: #D2E3FC;\n",
              "      --hover-bg-color: #434B5C;\n",
              "      --hover-fill-color: #FFFFFF;\n",
              "      --disabled-bg-color: #3B4455;\n",
              "      --disabled-fill-color: #666;\n",
              "  }\n",
              "\n",
              "  .colab-df-quickchart {\n",
              "    background-color: var(--bg-color);\n",
              "    border: none;\n",
              "    border-radius: 50%;\n",
              "    cursor: pointer;\n",
              "    display: none;\n",
              "    fill: var(--fill-color);\n",
              "    height: 32px;\n",
              "    padding: 0;\n",
              "    width: 32px;\n",
              "  }\n",
              "\n",
              "  .colab-df-quickchart:hover {\n",
              "    background-color: var(--hover-bg-color);\n",
              "    box-shadow: 0 1px 2px rgba(60, 64, 67, 0.3), 0 1px 3px 1px rgba(60, 64, 67, 0.15);\n",
              "    fill: var(--button-hover-fill-color);\n",
              "  }\n",
              "\n",
              "  .colab-df-quickchart-complete:disabled,\n",
              "  .colab-df-quickchart-complete:disabled:hover {\n",
              "    background-color: var(--disabled-bg-color);\n",
              "    fill: var(--disabled-fill-color);\n",
              "    box-shadow: none;\n",
              "  }\n",
              "\n",
              "  .colab-df-spinner {\n",
              "    border: 2px solid var(--fill-color);\n",
              "    border-color: transparent;\n",
              "    border-bottom-color: var(--fill-color);\n",
              "    animation:\n",
              "      spin 1s steps(1) infinite;\n",
              "  }\n",
              "\n",
              "  @keyframes spin {\n",
              "    0% {\n",
              "      border-color: transparent;\n",
              "      border-bottom-color: var(--fill-color);\n",
              "      border-left-color: var(--fill-color);\n",
              "    }\n",
              "    20% {\n",
              "      border-color: transparent;\n",
              "      border-left-color: var(--fill-color);\n",
              "      border-top-color: var(--fill-color);\n",
              "    }\n",
              "    30% {\n",
              "      border-color: transparent;\n",
              "      border-left-color: var(--fill-color);\n",
              "      border-top-color: var(--fill-color);\n",
              "      border-right-color: var(--fill-color);\n",
              "    }\n",
              "    40% {\n",
              "      border-color: transparent;\n",
              "      border-right-color: var(--fill-color);\n",
              "      border-top-color: var(--fill-color);\n",
              "    }\n",
              "    60% {\n",
              "      border-color: transparent;\n",
              "      border-right-color: var(--fill-color);\n",
              "    }\n",
              "    80% {\n",
              "      border-color: transparent;\n",
              "      border-right-color: var(--fill-color);\n",
              "      border-bottom-color: var(--fill-color);\n",
              "    }\n",
              "    90% {\n",
              "      border-color: transparent;\n",
              "      border-bottom-color: var(--fill-color);\n",
              "    }\n",
              "  }\n",
              "</style>\n",
              "\n",
              "  <script>\n",
              "    async function quickchart(key) {\n",
              "      const quickchartButtonEl =\n",
              "        document.querySelector('#' + key + ' button');\n",
              "      quickchartButtonEl.disabled = true;  // To prevent multiple clicks.\n",
              "      quickchartButtonEl.classList.add('colab-df-spinner');\n",
              "      try {\n",
              "        const charts = await google.colab.kernel.invokeFunction(\n",
              "            'suggestCharts', [key], {});\n",
              "      } catch (error) {\n",
              "        console.error('Error during call to suggestCharts:', error);\n",
              "      }\n",
              "      quickchartButtonEl.classList.remove('colab-df-spinner');\n",
              "      quickchartButtonEl.classList.add('colab-df-quickchart-complete');\n",
              "    }\n",
              "    (() => {\n",
              "      let quickchartButtonEl =\n",
              "        document.querySelector('#df-80acccb3-7e2f-4330-a8ec-6ea077faa797 button');\n",
              "      quickchartButtonEl.style.display =\n",
              "        google.colab.kernel.accessAllowed ? 'block' : 'none';\n",
              "    })();\n",
              "  </script>\n",
              "</div>\n",
              "\n",
              "    </div>\n",
              "  </div>\n"
            ],
            "application/vnd.google.colaboratory.intrinsic+json": {
              "type": "dataframe",
              "variable_name": "dataFrame",
              "summary": "{\n  \"name\": \"dataFrame\",\n  \"rows\": 750,\n  \"fields\": [\n    {\n      \"column\": \"date\",\n      \"properties\": {\n        \"dtype\": \"date\",\n        \"min\": \"2011-01-07 00:00:00\",\n        \"max\": \"2011-06-24 00:00:00\",\n        \"num_unique_values\": 25,\n        \"samples\": [\n          \"2011-03-04 00:00:00\",\n          \"2011-04-29 00:00:00\",\n          \"2011-01-07 00:00:00\"\n        ],\n        \"semantic_type\": \"\",\n        \"description\": \"\"\n      }\n    },\n    {\n      \"column\": \"quarter\",\n      \"properties\": {\n        \"dtype\": \"number\",\n        \"std\": 0,\n        \"min\": 1,\n        \"max\": 2,\n        \"num_unique_values\": 2,\n        \"samples\": [\n          2,\n          1\n        ],\n        \"semantic_type\": \"\",\n        \"description\": \"\"\n      }\n    },\n    {\n      \"column\": \"stock\",\n      \"properties\": {\n        \"dtype\": \"category\",\n        \"num_unique_values\": 30,\n        \"samples\": [\n          \"VZ\",\n          \"JPM\"\n        ],\n        \"semantic_type\": \"\",\n        \"description\": \"\"\n      }\n    },\n    {\n      \"column\": \"open\",\n      \"properties\": {\n        \"dtype\": \"string\",\n        \"num_unique_values\": 722,\n        \"samples\": [\n          \"$51.75\",\n          \"$20.44\"\n        ],\n        \"semantic_type\": \"\",\n        \"description\": \"\"\n      }\n    },\n    {\n      \"column\": \"high\",\n      \"properties\": {\n        \"dtype\": \"string\",\n        \"num_unique_values\": 713,\n        \"samples\": [\n          \"$35.89\",\n          \"$55.38\"\n        ],\n        \"semantic_type\": \"\",\n        \"description\": \"\"\n      }\n    },\n    {\n      \"column\": \"low\",\n      \"properties\": {\n        \"dtype\": \"string\",\n        \"num_unique_values\": 711,\n        \"samples\": [\n          \"$162.87\",\n          \"$10.40\"\n        ],\n        \"semantic_type\": \"\",\n        \"description\": \"\"\n      }\n    },\n    {\n      \"column\": \"close\",\n      \"properties\": {\n        \"dtype\": \"string\",\n        \"num_unique_values\": 711,\n        \"samples\": [\n          \"$164.44\",\n          \"$10.80\"\n        ],\n        \"semantic_type\": \"\",\n        \"description\": \"\"\n      }\n    },\n    {\n      \"column\": \"volume\",\n      \"properties\": {\n        \"dtype\": \"number\",\n        \"std\": 158438089,\n        \"min\": 9718851,\n        \"max\": 1453438639,\n        \"num_unique_values\": 750,\n        \"samples\": [\n          46244533,\n          92727886\n        ],\n        \"semantic_type\": \"\",\n        \"description\": \"\"\n      }\n    },\n    {\n      \"column\": \"percent_change_price\",\n      \"properties\": {\n        \"dtype\": \"number\",\n        \"std\": 2.5178092070482716,\n        \"min\": -15.4229,\n        \"max\": 9.88223,\n        \"num_unique_values\": 745,\n        \"samples\": [\n          0.385109,\n          -0.85885\n        ],\n        \"semantic_type\": \"\",\n        \"description\": \"\"\n      }\n    },\n    {\n      \"column\": \"percent_change_volume_over_last_wk\",\n      \"properties\": {\n        \"dtype\": \"number\",\n        \"std\": 40.543478186643185,\n        \"min\": -61.43317522,\n        \"max\": 327.4089238,\n        \"num_unique_values\": 720,\n        \"samples\": [\n          23.09498459,\n          6.06869297\n        ],\n        \"semantic_type\": \"\",\n        \"description\": \"\"\n      }\n    },\n    {\n      \"column\": \"previous_weeks_volume\",\n      \"properties\": {\n        \"dtype\": \"number\",\n        \"std\": 159232227.99587056,\n        \"min\": 9718851.0,\n        \"max\": 1453438639.0,\n        \"num_unique_values\": 720,\n        \"samples\": [\n          77152591.0,\n          15689029.0\n        ],\n        \"semantic_type\": \"\",\n        \"description\": \"\"\n      }\n    },\n    {\n      \"column\": \"next_weeks_open\",\n      \"properties\": {\n        \"dtype\": \"string\",\n        \"num_unique_values\": 720,\n        \"samples\": [\n          \"$75.13\",\n          \"$28.77\"\n        ],\n        \"semantic_type\": \"\",\n        \"description\": \"\"\n      }\n    },\n    {\n      \"column\": \"next_weeks_close\",\n      \"properties\": {\n        \"dtype\": \"string\",\n        \"num_unique_values\": 715,\n        \"samples\": [\n          \"$36.70\",\n          \"$64.93\"\n        ],\n        \"semantic_type\": \"\",\n        \"description\": \"\"\n      }\n    },\n    {\n      \"column\": \"percent_change_next_weeks_price\",\n      \"properties\": {\n        \"dtype\": \"number\",\n        \"std\": 2.679538347014115,\n        \"min\": -15.4229,\n        \"max\": 9.88223,\n        \"num_unique_values\": 745,\n        \"samples\": [\n          1.43609,\n          -2.77257\n        ],\n        \"semantic_type\": \"\",\n        \"description\": \"\"\n      }\n    },\n    {\n      \"column\": \"days_to_next_dividend\",\n      \"properties\": {\n        \"dtype\": \"number\",\n        \"std\": 46,\n        \"min\": 0,\n        \"max\": 336,\n        \"num_unique_values\": 105,\n        \"samples\": [\n          32,\n          45\n        ],\n        \"semantic_type\": \"\",\n        \"description\": \"\"\n      }\n    },\n    {\n      \"column\": \"percent_return_next_dividend\",\n      \"properties\": {\n        \"dtype\": \"number\",\n        \"std\": 0.3054818714776619,\n        \"min\": 0.0655738,\n        \"max\": 1.56421,\n        \"num_unique_values\": 729,\n        \"samples\": [\n          0.69965,\n          0.457736\n        ],\n        \"semantic_type\": \"\",\n        \"description\": \"\"\n      }\n    }\n  ]\n}"
            }
          },
          "metadata": {},
          "execution_count": 28
        }
      ]
    },
    {
      "cell_type": "code",
      "source": [
        "#Using the data filtered in the above step list all the closing price from jan to march\n",
        "closeTS = dataFrame[(dataFrame.stock == 'AA')].close.str.replace('$',' ').astype(float)\n",
        "#print(closeTS)\n",
        "#close_AA = closeTS.loc['2011-01-01':'2011-03-31']\n",
        "#print(close_AA)"
      ],
      "metadata": {
        "id": "YQJfxoVwA5pz"
      },
      "execution_count": null,
      "outputs": []
    },
    {
      "cell_type": "code",
      "source": [
        "downsample = closeTS.resample('M').max()\n",
        "print(downsample)"
      ],
      "metadata": {
        "colab": {
          "base_uri": "https://localhost:8080/"
        },
        "id": "n-v_0pcFAQFt",
        "outputId": "2ae49220-e208-48ce-e738-3fb991b62fdf"
      },
      "execution_count": null,
      "outputs": [
        {
          "output_type": "stream",
          "name": "stdout",
          "text": [
            "date\n",
            "2011-01-31    16.42\n",
            "2011-02-28    17.37\n",
            "2011-03-31    17.09\n",
            "2011-04-30    17.92\n",
            "2011-05-31    17.15\n",
            "2011-06-30    15.92\n",
            "Freq: M, Name: close, dtype: float64\n"
          ]
        }
      ]
    },
    {
      "cell_type": "code",
      "source": [
        "upsample = closeTS.resample('D').min().ffill(limit=2).head(10)\n",
        "print(upsample)"
      ],
      "metadata": {
        "colab": {
          "base_uri": "https://localhost:8080/"
        },
        "id": "ewb_U2CHF1Vt",
        "outputId": "24a2d171-e916-4d9d-f269-ef2ce040e501"
      },
      "execution_count": null,
      "outputs": [
        {
          "output_type": "stream",
          "name": "stdout",
          "text": [
            "date\n",
            "2011-01-07    16.42\n",
            "2011-01-08    16.42\n",
            "2011-01-09    16.42\n",
            "2011-01-10      NaN\n",
            "2011-01-11      NaN\n",
            "2011-01-12      NaN\n",
            "2011-01-13      NaN\n",
            "2011-01-14    15.97\n",
            "2011-01-15    15.97\n",
            "2011-01-16    15.97\n",
            "Freq: D, Name: close, dtype: float64\n"
          ]
        }
      ]
    },
    {
      "cell_type": "code",
      "source": [
        "import pytz\n",
        "pytz.common_timezones[-5:]\n",
        "['US/Eastern', 'US/Hawaii', 'US/Mountain', 'US/Pacific', 'UTC']"
      ],
      "metadata": {
        "colab": {
          "base_uri": "https://localhost:8080/"
        },
        "id": "i6HAkZxIKVKt",
        "outputId": "0901f750-f678-4dbc-de98-f9195c41459c"
      },
      "execution_count": null,
      "outputs": [
        {
          "output_type": "execute_result",
          "data": {
            "text/plain": [
              "['US/Eastern', 'US/Hawaii', 'US/Mountain', 'US/Pacific', 'UTC']"
            ]
          },
          "metadata": {},
          "execution_count": 29
        }
      ]
    },
    {
      "cell_type": "code",
      "source": [
        "usEastTz = pytz.timezone('US/Eastern')"
      ],
      "metadata": {
        "id": "eyXm8fXKNGJB"
      },
      "execution_count": null,
      "outputs": []
    },
    {
      "cell_type": "code",
      "source": [
        "usEastTz"
      ],
      "metadata": {
        "colab": {
          "base_uri": "https://localhost:8080/"
        },
        "id": "r9e_54q3NJNh",
        "outputId": "aa980703-1169-4b2f-ae03-8054d03f5d1b"
      },
      "execution_count": null,
      "outputs": [
        {
          "output_type": "execute_result",
          "data": {
            "text/plain": [
              "<DstTzInfo 'US/Eastern' LMT-1 day, 19:04:00 STD>"
            ]
          },
          "metadata": {},
          "execution_count": 31
        }
      ]
    },
    {
      "cell_type": "code",
      "source": [
        "import pandas as pd\n",
        "import numpy as np\n",
        "import random\n",
        "timeZoneRng = pd.date_range('9/18/2017 9:30', periods=6, freq='D',tz='UTC')\n",
        "timeZoneTs = pd.Series(np.random.randn(len(timeZoneRng)), index=timeZoneRng)\n",
        "timeZoneTs.index.tz"
      ],
      "metadata": {
        "colab": {
          "base_uri": "https://localhost:8080/"
        },
        "id": "jZnkmIB0NQGC",
        "outputId": "7160b021-daca-49eb-b152-ff7617504126"
      },
      "execution_count": null,
      "outputs": [
        {
          "output_type": "execute_result",
          "data": {
            "text/plain": [
              "datetime.timezone.utc"
            ]
          },
          "metadata": {},
          "execution_count": 33
        }
      ]
    },
    {
      "cell_type": "code",
      "source": [
        "timeZoneTs.tz_convert('US/Eastern')"
      ],
      "metadata": {
        "colab": {
          "base_uri": "https://localhost:8080/"
        },
        "id": "c8KuNOLCNWCt",
        "outputId": "559c0b44-5df6-439a-97e0-863a527d53aa"
      },
      "execution_count": null,
      "outputs": [
        {
          "output_type": "execute_result",
          "data": {
            "text/plain": [
              "2017-09-18 05:30:00-04:00   -0.704422\n",
              "2017-09-19 05:30:00-04:00    0.396197\n",
              "2017-09-20 05:30:00-04:00   -0.706251\n",
              "2017-09-21 05:30:00-04:00    1.346242\n",
              "2017-09-22 05:30:00-04:00    0.147585\n",
              "2017-09-23 05:30:00-04:00    0.215364\n",
              "Freq: D, dtype: float64"
            ]
          },
          "metadata": {},
          "execution_count": 34
        }
      ]
    },
    {
      "cell_type": "code",
      "source": [
        "sampleTimeStamp =  pd.Timestamp('2011-09-19 04:00')\n",
        "timeStamp_utc = sampleTimeStamp.tz_localize('UTC')\n",
        "timeStamp_utc\n",
        "sampleTimeStamp1 = pd.Timestamp('2011-09-19 04:00:00+0000', tz='UTC')\n",
        "timeStamp_utc.tz_convert('US/Eastern')\n"
      ],
      "metadata": {
        "colab": {
          "base_uri": "https://localhost:8080/"
        },
        "id": "_Ekcc_PoNo_H",
        "outputId": "626a0afc-2b2c-4615-fed2-6167245dcfb8"
      },
      "execution_count": null,
      "outputs": [
        {
          "output_type": "execute_result",
          "data": {
            "text/plain": [
              "Timestamp('2011-09-19 00:00:00-0400', tz='US/Eastern')"
            ]
          },
          "metadata": {},
          "execution_count": 38
        }
      ]
    },
    {
      "cell_type": "code",
      "source": [
        "from pandas.tseries.offsets import Hour\n",
        "stamp = pd.Timestamp('2012-03-12 01:30', tz='US/Eastern')\n",
        "stamp + 2*Hour()"
      ],
      "metadata": {
        "colab": {
          "base_uri": "https://localhost:8080/"
        },
        "id": "pCa8qBZmNzb3",
        "outputId": "3f1b0fd8-e7db-4f43-9eb2-9b20abe1b21d"
      },
      "execution_count": null,
      "outputs": [
        {
          "output_type": "execute_result",
          "data": {
            "text/plain": [
              "Timestamp('2012-03-12 03:30:00-0400', tz='US/Eastern')"
            ]
          },
          "metadata": {},
          "execution_count": 40
        }
      ]
    },
    {
      "cell_type": "code",
      "source": [
        "dateRng = pd.date_range('9/19/2017 9:30', periods=10, freq='B')\n",
        "timeSeries =  pd.Series(np.random.randn(len(dateRng)), index=dateRng)\n",
        "tz1 = timeSeries[:7].tz_localize('Asia/Singapore')\n",
        "tz2 = tz1[2:].tz_convert('Asia/Seoul')\n",
        "combine = tz1 + tz2\n",
        "combine.index"
      ],
      "metadata": {
        "colab": {
          "base_uri": "https://localhost:8080/"
        },
        "id": "BfRfuEFpO-Po",
        "outputId": "ecda5f55-1c4c-4e8e-8373-2180d3ebfaf1"
      },
      "execution_count": null,
      "outputs": [
        {
          "output_type": "execute_result",
          "data": {
            "text/plain": [
              "DatetimeIndex(['2017-09-19 01:30:00+00:00', '2017-09-20 01:30:00+00:00',\n",
              "               '2017-09-21 01:30:00+00:00', '2017-09-22 01:30:00+00:00',\n",
              "               '2017-09-25 01:30:00+00:00', '2017-09-26 01:30:00+00:00',\n",
              "               '2017-09-27 01:30:00+00:00'],\n",
              "              dtype='datetime64[ns, UTC]', freq=None)"
            ]
          },
          "metadata": {},
          "execution_count": 41
        }
      ]
    },
    {
      "cell_type": "code",
      "source": [
        "%matplotlib inline\n",
        "import pandas as pd\n",
        "import numpy as np\n",
        "sampleRng = pd.date_range(start='2017', periods=120, freq='MS')\n",
        "sampleTs = pd.Series(np.random.randint(-10, 10, size=len(sampleRng)), sampleRng).cumsum()\n",
        "sampleTs.head()"
      ],
      "metadata": {
        "colab": {
          "base_uri": "https://localhost:8080/"
        },
        "id": "8QjGMjOcPOnk",
        "outputId": "368cd039-ebfe-4ec2-aea9-e7eac6f6d50a"
      },
      "execution_count": null,
      "outputs": [
        {
          "output_type": "execute_result",
          "data": {
            "text/plain": [
              "2017-01-01    -8\n",
              "2017-02-01   -18\n",
              "2017-03-01   -24\n",
              "2017-04-01   -19\n",
              "2017-05-01   -24\n",
              "Freq: MS, dtype: int64"
            ]
          },
          "metadata": {},
          "execution_count": 42
        }
      ]
    },
    {
      "cell_type": "code",
      "source": [
        "sampleTs.plot(c='r', title='Sample time series')"
      ],
      "metadata": {
        "colab": {
          "base_uri": "https://localhost:8080/",
          "height": 469
        },
        "id": "Gnko06jPPjww",
        "outputId": "5fe1e9a7-6a67-4c59-9756-424a66105286"
      },
      "execution_count": null,
      "outputs": [
        {
          "output_type": "execute_result",
          "data": {
            "text/plain": [
              "<Axes: title={'center': 'Sample time series'}>"
            ]
          },
          "metadata": {},
          "execution_count": 43
        },
        {
          "output_type": "display_data",
          "data": {
            "text/plain": [
              "<Figure size 640x480 with 1 Axes>"
            ],
            "image/png": "[encoded data removed]"
          },
          "metadata": {}
        }
      ]
    },
    {
      "cell_type": "code",
      "source": [
        "annually = sampleTs.resample('2A').mean()\n",
        "annually.plot(c='b', ls='--')\n",
        "sampleTs.resample('5A').mean().plot(c='g', ls='--')"
      ],
      "metadata": {
        "colab": {
          "base_uri": "https://localhost:8080/",
          "height": 447
        },
        "id": "cxTHOu9yPxvI",
        "outputId": "eadcc759-e13f-4486-e4c0-f6e719f49fb4"
      },
      "execution_count": null,
      "outputs": [
        {
          "output_type": "execute_result",
          "data": {
            "text/plain": [
              "<Axes: >"
            ]
          },
          "metadata": {},
          "execution_count": 49
        },
        {
          "output_type": "display_data",
          "data": {
            "text/plain": [
              "<Figure size 640x480 with 1 Axes>"
            ],
            "image/png": "[encoded data removed]"
          },
          "metadata": {}
        }
      ]
    },
    {
      "cell_type": "code",
      "source": [
        "from pandas.plotting import lag_plot\n",
        "lag_plot(sampleTs)"
      ],
      "metadata": {
        "colab": {
          "base_uri": "https://localhost:8080/",
          "height": 466
        },
        "id": "zhuxpFGMQCYY",
        "outputId": "6d8dbeb4-29b3-4517-a083-c26746226147"
      },
      "execution_count": null,
      "outputs": [
        {
          "output_type": "execute_result",
          "data": {
            "text/plain": [
              "<Axes: xlabel='y(t)', ylabel='y(t + 1)'>"
            ]
          },
          "metadata": {},
          "execution_count": 50
        },
        {
          "output_type": "display_data",
          "data": {
            "text/plain": [
              "<Figure size 640x480 with 1 Axes>"
            ],
            "image/png": "[encoded data removed]"
          },
          "metadata": {}
        }
      ]
    },
    {
      "cell_type": "code",
      "source": [
        "from pandas.plotting import autocorrelation_plot\n",
        "autocorrelation_plot(sampleTs)"
      ],
      "metadata": {
        "colab": {
          "base_uri": "https://localhost:8080/",
          "height": 472
        },
        "id": "X0DxSXnBRz6l",
        "outputId": "f71b1a76-73da-4a01-f0fc-c479b705769e"
      },
      "execution_count": null,
      "outputs": [
        {
          "output_type": "execute_result",
          "data": {
            "text/plain": [
              "<Axes: xlabel='Lag', ylabel='Autocorrelation'>"
            ]
          },
          "metadata": {},
          "execution_count": 51
        },
        {
          "output_type": "display_data",
          "data": {
            "text/plain": [
              "<Figure size 640x480 with 1 Axes>"
            ],
            "image/png": "[encoded data removed]"
          },
          "metadata": {}
        }
      ]
    },
    {
      "cell_type": "code",
      "source": [
        "import random\n",
        "import pandas as pd\n",
        "import numpy as np\n",
        "from statsmodels.tsa.stattools import adfuller\n",
        "sampleRng = pd.date_range(start='2017', periods=120, freq='MS')\n",
        "sampleTs = pd.Series(np.random.randint(-10, 10, size=len(sampleRng)), sampleRng).cumsum()"
      ],
      "metadata": {
        "id": "qBdxD0DOSCWD"
      },
      "execution_count": null,
      "outputs": []
    },
    {
      "cell_type": "code",
      "source": [
        "tsResult = adfuller(sampleTs)\n",
        "print('ADF Statistic: %f' % tsResult[0])\n",
        "print('p-value: %f' % tsResult[1])\n",
        "for key, value in tsResult[4].items():\n",
        "    print('\\t%s: %.3f' % (key, value))"
      ],
      "metadata": {
        "colab": {
          "base_uri": "https://localhost:8080/"
        },
        "id": "oOF4cyoAZZ7Z",
        "outputId": "fec44a6f-630c-4f7c-f3fd-e691b0a66d1a"
      },
      "execution_count": null,
      "outputs": [
        {
          "output_type": "stream",
          "name": "stdout",
          "text": [
            "ADF Statistic: -0.066851\n",
            "p-value: 0.952642\n",
            "\t1%: -3.487\n",
            "\t5%: -2.886\n",
            "\t10%: -2.580\n"
          ]
        }
      ]
    },
    {
      "cell_type": "code",
      "source": [
        "import pandas as pd\n",
        "dataFrame = pd.read_csv('dow_jones_index.data',parse_dates=[\"date\"], index_col=\"date\")\n",
        "dataFrame.head()\n"
      ],
      "metadata": {
        "colab": {
          "base_uri": "https://localhost:8080/",
          "height": 431
        },
        "id": "hZL8ASZxZfl8",
        "outputId": "3d47c712-dfea-478d-bda6-249d249327be"
      },
      "execution_count": null,
      "outputs": [
        {
          "output_type": "execute_result",
          "data": {
            "text/plain": [
              "            quarter stock  ... days_to_next_dividend percent_return_next_dividend\n",
              "date                       ...                                                   \n",
              "2011-01-07        1    AA  ...                    26                     0.182704\n",
              "2011-01-14        1    AA  ...                    19                     0.187852\n",
              "2011-01-21        1    AA  ...                    12                     0.189994\n",
              "2011-01-28        1    AA  ...                     5                     0.185989\n",
              "2011-02-04        1    AA  ...                    97                     0.175029\n",
              "\n",
              "[5 rows x 15 columns]"
            ],
            "text/html": [
              "\n",
              "  <div id=\"df-e4b12e8d-42a6-4f8c-a5b3-dcf8669b8c87\" class=\"colab-df-container\">\n",
              "    <div>\n",
              "<style scoped>\n",
              "    .dataframe tbody tr th:only-of-type {\n",
              "        vertical-align: middle;\n",
              "    }\n",
              "\n",
              "    .dataframe tbody tr th {\n",
              "        vertical-align: top;\n",
              "    }\n",
              "\n",
              "    .dataframe thead th {\n",
              "        text-align: right;\n",
              "    }\n",
              "</style>\n",
              "<table border=\"1\" class=\"dataframe\">\n",
              "  <thead>\n",
              "    <tr style=\"text-align: right;\">\n",
              "      <th></th>\n",
              "      <th>quarter</th>\n",
              "      <th>stock</th>\n",
              "      <th>open</th>\n",
              "      <th>high</th>\n",
              "      <th>low</th>\n",
              "      <th>close</th>\n",
              "      <th>volume</th>\n",
              "      <th>percent_change_price</th>\n",
              "      <th>percent_change_volume_over_last_wk</th>\n",
              "      <th>previous_weeks_volume</th>\n",
              "      <th>next_weeks_open</th>\n",
              "      <th>next_weeks_close</th>\n",
              "      <th>percent_change_next_weeks_price</th>\n",
              "      <th>days_to_next_dividend</th>\n",
              "      <th>percent_return_next_dividend</th>\n",
              "    </tr>\n",
              "    <tr>\n",
              "      <th>date</th>\n",
              "      <th></th>\n",
              "      <th></th>\n",
              "      <th></th>\n",
              "      <th></th>\n",
              "      <th></th>\n",
              "      <th></th>\n",
              "      <th></th>\n",
              "      <th></th>\n",
              "      <th></th>\n",
              "      <th></th>\n",
              "      <th></th>\n",
              "      <th></th>\n",
              "      <th></th>\n",
              "      <th></th>\n",
              "      <th></th>\n",
              "    </tr>\n",
              "  </thead>\n",
              "  <tbody>\n",
              "    <tr>\n",
              "      <th>2011-01-07</th>\n",
              "      <td>1</td>\n",
              "      <td>AA</td>\n",
              "      <td>$15.82</td>\n",
              "      <td>$16.72</td>\n",
              "      <td>$15.78</td>\n",
              "      <td>$16.42</td>\n",
              "      <td>239655616</td>\n",
              "      <td>3.79267</td>\n",
              "      <td>NaN</td>\n",
              "      <td>NaN</td>\n",
              "      <td>$16.71</td>\n",
              "      <td>$15.97</td>\n",
              "      <td>-4.428490</td>\n",
              "      <td>26</td>\n",
              "      <td>0.182704</td>\n",
              "    </tr>\n",
              "    <tr>\n",
              "      <th>2011-01-14</th>\n",
              "      <td>1</td>\n",
              "      <td>AA</td>\n",
              "      <td>$16.71</td>\n",
              "      <td>$16.71</td>\n",
              "      <td>$15.64</td>\n",
              "      <td>$15.97</td>\n",
              "      <td>242963398</td>\n",
              "      <td>-4.42849</td>\n",
              "      <td>1.380223</td>\n",
              "      <td>239655616.0</td>\n",
              "      <td>$16.19</td>\n",
              "      <td>$15.79</td>\n",
              "      <td>-2.470660</td>\n",
              "      <td>19</td>\n",
              "      <td>0.187852</td>\n",
              "    </tr>\n",
              "    <tr>\n",
              "      <th>2011-01-21</th>\n",
              "      <td>1</td>\n",
              "      <td>AA</td>\n",
              "      <td>$16.19</td>\n",
              "      <td>$16.38</td>\n",
              "      <td>$15.60</td>\n",
              "      <td>$15.79</td>\n",
              "      <td>138428495</td>\n",
              "      <td>-2.47066</td>\n",
              "      <td>-43.024959</td>\n",
              "      <td>242963398.0</td>\n",
              "      <td>$15.87</td>\n",
              "      <td>$16.13</td>\n",
              "      <td>1.638310</td>\n",
              "      <td>12</td>\n",
              "      <td>0.189994</td>\n",
              "    </tr>\n",
              "    <tr>\n",
              "      <th>2011-01-28</th>\n",
              "      <td>1</td>\n",
              "      <td>AA</td>\n",
              "      <td>$15.87</td>\n",
              "      <td>$16.63</td>\n",
              "      <td>$15.82</td>\n",
              "      <td>$16.13</td>\n",
              "      <td>151379173</td>\n",
              "      <td>1.63831</td>\n",
              "      <td>9.355500</td>\n",
              "      <td>138428495.0</td>\n",
              "      <td>$16.18</td>\n",
              "      <td>$17.14</td>\n",
              "      <td>5.933250</td>\n",
              "      <td>5</td>\n",
              "      <td>0.185989</td>\n",
              "    </tr>\n",
              "    <tr>\n",
              "      <th>2011-02-04</th>\n",
              "      <td>1</td>\n",
              "      <td>AA</td>\n",
              "      <td>$16.18</td>\n",
              "      <td>$17.39</td>\n",
              "      <td>$16.18</td>\n",
              "      <td>$17.14</td>\n",
              "      <td>154387761</td>\n",
              "      <td>5.93325</td>\n",
              "      <td>1.987452</td>\n",
              "      <td>151379173.0</td>\n",
              "      <td>$17.33</td>\n",
              "      <td>$17.37</td>\n",
              "      <td>0.230814</td>\n",
              "      <td>97</td>\n",
              "      <td>0.175029</td>\n",
              "    </tr>\n",
              "  </tbody>\n",
              "</table>\n",
              "</div>\n",
              "    <div class=\"colab-df-buttons\">\n",
              "\n",
              "  <div class=\"colab-df-container\">\n",
              "    <button class=\"colab-df-convert\" onclick=\"convertToInteractive('df-e4b12e8d-42a6-4f8c-a5b3-dcf8669b8c87')\"\n",
              "            title=\"Convert this dataframe to an interactive table.\"\n",
              "            style=\"display:none;\">\n",
              "\n",
              "  <svg xmlns=\"http://www.w3.org/2000/svg\" height=\"24px\" viewBox=\"0 -960 960 960\">\n",
              "    <path d=\"M120-120v-720h720v720H120Zm60-500h600v-160H180v160Zm220 220h160v-160H400v160Zm0 220h160v-160H400v160ZM180-400h160v-160H180v160Zm440 0h160v-160H620v160ZM180-180h160v-160H180v160Zm440 0h160v-160H620v160Z\"/>\n",
              "  </svg>\n",
              "    </button>\n",
              "\n",
              "  <style>\n",
              "    .colab-df-container {\n",
              "      display:flex;\n",
              "      gap: 12px;\n",
              "    }\n",
              "\n",
              "    .colab-df-convert {\n",
              "      background-color: #E8F0FE;\n",
              "      border: none;\n",
              "      border-radius: 50%;\n",
              "      cursor: pointer;\n",
              "      display: none;\n",
              "      fill: #1967D2;\n",
              "      height: 32px;\n",
              "      padding: 0 0 0 0;\n",
              "      width: 32px;\n",
              "    }\n",
              "\n",
              "    .colab-df-convert:hover {\n",
              "      background-color: #E2EBFA;\n",
              "      box-shadow: 0px 1px 2px rgba(60, 64, 67, 0.3), 0px 1px 3px 1px rgba(60, 64, 67, 0.15);\n",
              "      fill: #174EA6;\n",
              "    }\n",
              "\n",
              "    .colab-df-buttons div {\n",
              "      margin-bottom: 4px;\n",
              "    }\n",
              "\n",
              "    [theme=dark] .colab-df-convert {\n",
              "      background-color: #3B4455;\n",
              "      fill: #D2E3FC;\n",
              "    }\n",
              "\n",
              "    [theme=dark] .colab-df-convert:hover {\n",
              "      background-color: #434B5C;\n",
              "      box-shadow: 0px 1px 3px 1px rgba(0, 0, 0, 0.15);\n",
              "      filter: drop-shadow(0px 1px 2px rgba(0, 0, 0, 0.3));\n",
              "      fill: #FFFFFF;\n",
              "    }\n",
              "  </style>\n",
              "\n",
              "    <script>\n",
              "      const buttonEl =\n",
              "        document.querySelector('#df-e4b12e8d-42a6-4f8c-a5b3-dcf8669b8c87 button.colab-df-convert');\n",
              "      buttonEl.style.display =\n",
              "        google.colab.kernel.accessAllowed ? 'block' : 'none';\n",
              "\n",
              "      async function convertToInteractive(key) {\n",
              "        const element = document.querySelector('#df-e4b12e8d-42a6-4f8c-a5b3-dcf8669b8c87');\n",
              "        const dataTable =\n",
              "          await google.colab.kernel.invokeFunction('convertToInteractive',\n",
              "                                                    [key], {});\n",
              "        if (!dataTable) return;\n",
              "\n",
              "        const docLinkHtml = 'Like what you see? Visit the ' +\n",
              "          '<a target=\"_blank\" href=https://colab.research.google.com/notebooks/data_table.ipynb>data table notebook</a>'\n",
              "          + ' to learn more about interactive tables.';\n",
              "        element.innerHTML = '';\n",
              "        dataTable['output_type'] = 'display_data';\n",
              "        await google.colab.output.renderOutput(dataTable, element);\n",
              "        const docLink = document.createElement('div');\n",
              "        docLink.innerHTML = docLinkHtml;\n",
              "        element.appendChild(docLink);\n",
              "      }\n",
              "    </script>\n",
              "  </div>\n",
              "\n",
              "\n",
              "<div id=\"df-107aa382-e18e-4bde-ad3f-39d5e4bb9557\">\n",
              "  <button class=\"colab-df-quickchart\" onclick=\"quickchart('df-107aa382-e18e-4bde-ad3f-39d5e4bb9557')\"\n",
              "            title=\"Suggest charts\"\n",
              "            style=\"display:none;\">\n",
              "\n",
              "<svg xmlns=\"http://www.w3.org/2000/svg\" height=\"24px\"viewBox=\"0 0 24 24\"\n",
              "     width=\"24px\">\n",
              "    <g>\n",
              "        <path d=\"M19 3H5c-1.1 0-2 .9-2 2v14c0 1.1.9 2 2 2h14c1.1 0 2-.9 2-2V5c0-1.1-.9-2-2-2zM9 17H7v-7h2v7zm4 0h-2V7h2v10zm4 0h-2v-4h2v4z\"/>\n",
              "    </g>\n",
              "</svg>\n",
              "  </button>\n",
              "\n",
              "<style>\n",
              "  .colab-df-quickchart {\n",
              "      --bg-color: #E8F0FE;\n",
              "      --fill-color: #1967D2;\n",
              "      --hover-bg-color: #E2EBFA;\n",
              "      --hover-fill-color: #174EA6;\n",
              "      --disabled-fill-color: #AAA;\n",
              "      --disabled-bg-color: #DDD;\n",
              "  }\n",
              "\n",
              "  [theme=dark] .colab-df-quickchart {\n",
              "      --bg-color: #3B4455;\n",
              "      --fill-color: #D2E3FC;\n",
              "      --hover-bg-color: #434B5C;\n",
              "      --hover-fill-color: #FFFFFF;\n",
              "      --disabled-bg-color: #3B4455;\n",
              "      --disabled-fill-color: #666;\n",
              "  }\n",
              "\n",
              "  .colab-df-quickchart {\n",
              "    background-color: var(--bg-color);\n",
              "    border: none;\n",
              "    border-radius: 50%;\n",
              "    cursor: pointer;\n",
              "    display: none;\n",
              "    fill: var(--fill-color);\n",
              "    height: 32px;\n",
              "    padding: 0;\n",
              "    width: 32px;\n",
              "  }\n",
              "\n",
              "  .colab-df-quickchart:hover {\n",
              "    background-color: var(--hover-bg-color);\n",
              "    box-shadow: 0 1px 2px rgba(60, 64, 67, 0.3), 0 1px 3px 1px rgba(60, 64, 67, 0.15);\n",
              "    fill: var(--button-hover-fill-color);\n",
              "  }\n",
              "\n",
              "  .colab-df-quickchart-complete:disabled,\n",
              "  .colab-df-quickchart-complete:disabled:hover {\n",
              "    background-color: var(--disabled-bg-color);\n",
              "    fill: var(--disabled-fill-color);\n",
              "    box-shadow: none;\n",
              "  }\n",
              "\n",
              "  .colab-df-spinner {\n",
              "    border: 2px solid var(--fill-color);\n",
              "    border-color: transparent;\n",
              "    border-bottom-color: var(--fill-color);\n",
              "    animation:\n",
              "      spin 1s steps(1) infinite;\n",
              "  }\n",
              "\n",
              "  @keyframes spin {\n",
              "    0% {\n",
              "      border-color: transparent;\n",
              "      border-bottom-color: var(--fill-color);\n",
              "      border-left-color: var(--fill-color);\n",
              "    }\n",
              "    20% {\n",
              "      border-color: transparent;\n",
              "      border-left-color: var(--fill-color);\n",
              "      border-top-color: var(--fill-color);\n",
              "    }\n",
              "    30% {\n",
              "      border-color: transparent;\n",
              "      border-left-color: var(--fill-color);\n",
              "      border-top-color: var(--fill-color);\n",
              "      border-right-color: var(--fill-color);\n",
              "    }\n",
              "    40% {\n",
              "      border-color: transparent;\n",
              "      border-right-color: var(--fill-color);\n",
              "      border-top-color: var(--fill-color);\n",
              "    }\n",
              "    60% {\n",
              "      border-color: transparent;\n",
              "      border-right-color: var(--fill-color);\n",
              "    }\n",
              "    80% {\n",
              "      border-color: transparent;\n",
              "      border-right-color: var(--fill-color);\n",
              "      border-bottom-color: var(--fill-color);\n",
              "    }\n",
              "    90% {\n",
              "      border-color: transparent;\n",
              "      border-bottom-color: var(--fill-color);\n",
              "    }\n",
              "  }\n",
              "</style>\n",
              "\n",
              "  <script>\n",
              "    async function quickchart(key) {\n",
              "      const quickchartButtonEl =\n",
              "        document.querySelector('#' + key + ' button');\n",
              "      quickchartButtonEl.disabled = true;  // To prevent multiple clicks.\n",
              "      quickchartButtonEl.classList.add('colab-df-spinner');\n",
              "      try {\n",
              "        const charts = await google.colab.kernel.invokeFunction(\n",
              "            'suggestCharts', [key], {});\n",
              "      } catch (error) {\n",
              "        console.error('Error during call to suggestCharts:', error);\n",
              "      }\n",
              "      quickchartButtonEl.classList.remove('colab-df-spinner');\n",
              "      quickchartButtonEl.classList.add('colab-df-quickchart-complete');\n",
              "    }\n",
              "    (() => {\n",
              "      let quickchartButtonEl =\n",
              "        document.querySelector('#df-107aa382-e18e-4bde-ad3f-39d5e4bb9557 button');\n",
              "      quickchartButtonEl.style.display =\n",
              "        google.colab.kernel.accessAllowed ? 'block' : 'none';\n",
              "    })();\n",
              "  </script>\n",
              "</div>\n",
              "\n",
              "    </div>\n",
              "  </div>\n"
            ],
            "application/vnd.google.colaboratory.intrinsic+json": {
              "type": "dataframe",
              "variable_name": "dataFrame",
              "summary": "{\n  \"name\": \"dataFrame\",\n  \"rows\": 750,\n  \"fields\": [\n    {\n      \"column\": \"date\",\n      \"properties\": {\n        \"dtype\": \"date\",\n        \"min\": \"2011-01-07 00:00:00\",\n        \"max\": \"2011-06-24 00:00:00\",\n        \"num_unique_values\": 25,\n        \"samples\": [\n          \"2011-03-04 00:00:00\",\n          \"2011-04-29 00:00:00\",\n          \"2011-01-07 00:00:00\"\n        ],\n        \"semantic_type\": \"\",\n        \"description\": \"\"\n      }\n    },\n    {\n      \"column\": \"quarter\",\n      \"properties\": {\n        \"dtype\": \"number\",\n        \"std\": 0,\n        \"min\": 1,\n        \"max\": 2,\n        \"num_unique_values\": 2,\n        \"samples\": [\n          2,\n          1\n        ],\n        \"semantic_type\": \"\",\n        \"description\": \"\"\n      }\n    },\n    {\n      \"column\": \"stock\",\n      \"properties\": {\n        \"dtype\": \"category\",\n        \"num_unique_values\": 30,\n        \"samples\": [\n          \"VZ\",\n          \"JPM\"\n        ],\n        \"semantic_type\": \"\",\n        \"description\": \"\"\n      }\n    },\n    {\n      \"column\": \"open\",\n      \"properties\": {\n        \"dtype\": \"string\",\n        \"num_unique_values\": 722,\n        \"samples\": [\n          \"$51.75\",\n          \"$20.44\"\n        ],\n        \"semantic_type\": \"\",\n        \"description\": \"\"\n      }\n    },\n    {\n      \"column\": \"high\",\n      \"properties\": {\n        \"dtype\": \"string\",\n        \"num_unique_values\": 713,\n        \"samples\": [\n          \"$35.89\",\n          \"$55.38\"\n        ],\n        \"semantic_type\": \"\",\n        \"description\": \"\"\n      }\n    },\n    {\n      \"column\": \"low\",\n      \"properties\": {\n        \"dtype\": \"string\",\n        \"num_unique_values\": 711,\n        \"samples\": [\n          \"$162.87\",\n          \"$10.40\"\n        ],\n        \"semantic_type\": \"\",\n        \"description\": \"\"\n      }\n    },\n    {\n      \"column\": \"close\",\n      \"properties\": {\n        \"dtype\": \"string\",\n        \"num_unique_values\": 711,\n        \"samples\": [\n          \"$164.44\",\n          \"$10.80\"\n        ],\n        \"semantic_type\": \"\",\n        \"description\": \"\"\n      }\n    },\n    {\n      \"column\": \"volume\",\n      \"properties\": {\n        \"dtype\": \"number\",\n        \"std\": 158438089,\n        \"min\": 9718851,\n        \"max\": 1453438639,\n        \"num_unique_values\": 750,\n        \"samples\": [\n          46244533,\n          92727886\n        ],\n        \"semantic_type\": \"\",\n        \"description\": \"\"\n      }\n    },\n    {\n      \"column\": \"percent_change_price\",\n      \"properties\": {\n        \"dtype\": \"number\",\n        \"std\": 2.5178092070482716,\n        \"min\": -15.4229,\n        \"max\": 9.88223,\n        \"num_unique_values\": 745,\n        \"samples\": [\n          0.385109,\n          -0.85885\n        ],\n        \"semantic_type\": \"\",\n        \"description\": \"\"\n      }\n    },\n    {\n      \"column\": \"percent_change_volume_over_last_wk\",\n      \"properties\": {\n        \"dtype\": \"number\",\n        \"std\": 40.543478186643185,\n        \"min\": -61.43317522,\n        \"max\": 327.4089238,\n        \"num_unique_values\": 720,\n        \"samples\": [\n          23.09498459,\n          6.06869297\n        ],\n        \"semantic_type\": \"\",\n        \"description\": \"\"\n      }\n    },\n    {\n      \"column\": \"previous_weeks_volume\",\n      \"properties\": {\n        \"dtype\": \"number\",\n        \"std\": 159232227.99587056,\n        \"min\": 9718851.0,\n        \"max\": 1453438639.0,\n        \"num_unique_values\": 720,\n        \"samples\": [\n          77152591.0,\n          15689029.0\n        ],\n        \"semantic_type\": \"\",\n        \"description\": \"\"\n      }\n    },\n    {\n      \"column\": \"next_weeks_open\",\n      \"properties\": {\n        \"dtype\": \"string\",\n        \"num_unique_values\": 720,\n        \"samples\": [\n          \"$75.13\",\n          \"$28.77\"\n        ],\n        \"semantic_type\": \"\",\n        \"description\": \"\"\n      }\n    },\n    {\n      \"column\": \"next_weeks_close\",\n      \"properties\": {\n        \"dtype\": \"string\",\n        \"num_unique_values\": 715,\n        \"samples\": [\n          \"$36.70\",\n          \"$64.93\"\n        ],\n        \"semantic_type\": \"\",\n        \"description\": \"\"\n      }\n    },\n    {\n      \"column\": \"percent_change_next_weeks_price\",\n      \"properties\": {\n        \"dtype\": \"number\",\n        \"std\": 2.679538347014115,\n        \"min\": -15.4229,\n        \"max\": 9.88223,\n        \"num_unique_values\": 745,\n        \"samples\": [\n          1.43609,\n          -2.77257\n        ],\n        \"semantic_type\": \"\",\n        \"description\": \"\"\n      }\n    },\n    {\n      \"column\": \"days_to_next_dividend\",\n      \"properties\": {\n        \"dtype\": \"number\",\n        \"std\": 46,\n        \"min\": 0,\n        \"max\": 336,\n        \"num_unique_values\": 105,\n        \"samples\": [\n          32,\n          45\n        ],\n        \"semantic_type\": \"\",\n        \"description\": \"\"\n      }\n    },\n    {\n      \"column\": \"percent_return_next_dividend\",\n      \"properties\": {\n        \"dtype\": \"number\",\n        \"std\": 0.3054818714776619,\n        \"min\": 0.0655738,\n        \"max\": 1.56421,\n        \"num_unique_values\": 729,\n        \"samples\": [\n          0.69965,\n          0.457736\n        ],\n        \"semantic_type\": \"\",\n        \"description\": \"\"\n      }\n    }\n  ]\n}"
            }
          },
          "metadata": {},
          "execution_count": 5
        }
      ]
    },
    {
      "cell_type": "code",
      "source": [
        "from statsmodels.tsa.stattools import adfuller"
      ],
      "metadata": {
        "id": "LMaN2pO2Bgic"
      },
      "execution_count": null,
      "outputs": []
    },
    {
      "cell_type": "code",
      "source": [
        "# prompt: perform stationarity check on WMT opening price using adfuller method and return the result to variable 'tsResult'\n",
        "\n",
        "open_WMT_Ts = dataFrame[(dataFrame.stock == 'WMT')].open.str.replace('$', '').astype(float)\n",
        "tsResult = adfuller(open_WMT_Ts)\n",
        "print('ADF Statistic: %f' % tsResult[0])\n",
        "print('p-value: %f' % tsResult[1])\n",
        "for key, value in tsResult[4].items():\n",
        "    print('\\t%s: %.3f' % (key, value))\n"
      ],
      "metadata": {
        "colab": {
          "base_uri": "https://localhost:8080/"
        },
        "id": "dW3JhNmoClbR",
        "outputId": "4d90495a-9ae3-4ce3-dacf-c87f18a059b0"
      },
      "execution_count": null,
      "outputs": [
        {
          "output_type": "stream",
          "name": "stdout",
          "text": [
            "ADF Statistic: -3.892828\n",
            "p-value: 0.002088\n",
            "\t1%: -3.924\n",
            "\t5%: -3.068\n",
            "\t10%: -2.674\n"
          ]
        }
      ]
    },
    {
      "cell_type": "code",
      "source": [
        "import pandas as pd\n",
        "dataFrame = pd.read_csv('dow_jones_index.data',parse_dates=[\"date\"], index_col=\"date\")\n",
        "dataFrame.head()"
      ],
      "metadata": {
        "id": "JHi5iEeYC2wn",
        "colab": {
          "base_uri": "https://localhost:8080/",
          "height": 431
        },
        "outputId": "d99a7923-c411-4b6b-d520-2f4d8ce1fc6c"
      },
      "execution_count": null,
      "outputs": [
        {
          "output_type": "execute_result",
          "data": {
            "text/plain": [
              "            quarter stock    open    high     low   close     volume  \\\n",
              "date                                                                   \n",
              "2011-01-07        1    AA  $15.82  $16.72  $15.78  $16.42  239655616   \n",
              "2011-01-14        1    AA  $16.71  $16.71  $15.64  $15.97  242963398   \n",
              "2011-01-21        1    AA  $16.19  $16.38  $15.60  $15.79  138428495   \n",
              "2011-01-28        1    AA  $15.87  $16.63  $15.82  $16.13  151379173   \n",
              "2011-02-04        1    AA  $16.18  $17.39  $16.18  $17.14  154387761   \n",
              "\n",
              "            percent_change_price  percent_change_volume_over_last_wk  \\\n",
              "date                                                                   \n",
              "2011-01-07               3.79267                                 NaN   \n",
              "2011-01-14              -4.42849                            1.380223   \n",
              "2011-01-21              -2.47066                          -43.024959   \n",
              "2011-01-28               1.63831                            9.355500   \n",
              "2011-02-04               5.93325                            1.987452   \n",
              "\n",
              "            previous_weeks_volume next_weeks_open next_weeks_close  \\\n",
              "date                                                                 \n",
              "2011-01-07                    NaN          $16.71           $15.97   \n",
              "2011-01-14            239655616.0          $16.19           $15.79   \n",
              "2011-01-21            242963398.0          $15.87           $16.13   \n",
              "2011-01-28            138428495.0          $16.18           $17.14   \n",
              "2011-02-04            151379173.0          $17.33           $17.37   \n",
              "\n",
              "            percent_change_next_weeks_price  days_to_next_dividend  \\\n",
              "date                                                                 \n",
              "2011-01-07                        -4.428490                     26   \n",
              "2011-01-14                        -2.470660                     19   \n",
              "2011-01-21                         1.638310                     12   \n",
              "2011-01-28                         5.933250                      5   \n",
              "2011-02-04                         0.230814                     97   \n",
              "\n",
              "            percent_return_next_dividend  \n",
              "date                                      \n",
              "2011-01-07                      0.182704  \n",
              "2011-01-14                      0.187852  \n",
              "2011-01-21                      0.189994  \n",
              "2011-01-28                      0.185989  \n",
              "2011-02-04                      0.175029  "
            ],
            "text/html": [
              "\n",
              "  <div id=\"df-778e93c0-a2e1-4ff2-89be-cc25910d6027\" class=\"colab-df-container\">\n",
              "    <div>\n",
              "<style scoped>\n",
              "    .dataframe tbody tr th:only-of-type {\n",
              "        vertical-align: middle;\n",
              "    }\n",
              "\n",
              "    .dataframe tbody tr th {\n",
              "        vertical-align: top;\n",
              "    }\n",
              "\n",
              "    .dataframe thead th {\n",
              "        text-align: right;\n",
              "    }\n",
              "</style>\n",
              "<table border=\"1\" class=\"dataframe\">\n",
              "  <thead>\n",
              "    <tr style=\"text-align: right;\">\n",
              "      <th></th>\n",
              "      <th>quarter</th>\n",
              "      <th>stock</th>\n",
              "      <th>open</th>\n",
              "      <th>high</th>\n",
              "      <th>low</th>\n",
              "      <th>close</th>\n",
              "      <th>volume</th>\n",
              "      <th>percent_change_price</th>\n",
              "      <th>percent_change_volume_over_last_wk</th>\n",
              "      <th>previous_weeks_volume</th>\n",
              "      <th>next_weeks_open</th>\n",
              "      <th>next_weeks_close</th>\n",
              "      <th>percent_change_next_weeks_price</th>\n",
              "      <th>days_to_next_dividend</th>\n",
              "      <th>percent_return_next_dividend</th>\n",
              "    </tr>\n",
              "    <tr>\n",
              "      <th>date</th>\n",
              "      <th></th>\n",
              "      <th></th>\n",
              "      <th></th>\n",
              "      <th></th>\n",
              "      <th></th>\n",
              "      <th></th>\n",
              "      <th></th>\n",
              "      <th></th>\n",
              "      <th></th>\n",
              "      <th></th>\n",
              "      <th></th>\n",
              "      <th></th>\n",
              "      <th></th>\n",
              "      <th></th>\n",
              "      <th></th>\n",
              "    </tr>\n",
              "  </thead>\n",
              "  <tbody>\n",
              "    <tr>\n",
              "      <th>2011-01-07</th>\n",
              "      <td>1</td>\n",
              "      <td>AA</td>\n",
              "      <td>$15.82</td>\n",
              "      <td>$16.72</td>\n",
              "      <td>$15.78</td>\n",
              "      <td>$16.42</td>\n",
              "      <td>239655616</td>\n",
              "      <td>3.79267</td>\n",
              "      <td>NaN</td>\n",
              "      <td>NaN</td>\n",
              "      <td>$16.71</td>\n",
              "      <td>$15.97</td>\n",
              "      <td>-4.428490</td>\n",
              "      <td>26</td>\n",
              "      <td>0.182704</td>\n",
              "    </tr>\n",
              "    <tr>\n",
              "      <th>2011-01-14</th>\n",
              "      <td>1</td>\n",
              "      <td>AA</td>\n",
              "      <td>$16.71</td>\n",
              "      <td>$16.71</td>\n",
              "      <td>$15.64</td>\n",
              "      <td>$15.97</td>\n",
              "      <td>242963398</td>\n",
              "      <td>-4.42849</td>\n",
              "      <td>1.380223</td>\n",
              "      <td>239655616.0</td>\n",
              "      <td>$16.19</td>\n",
              "      <td>$15.79</td>\n",
              "      <td>-2.470660</td>\n",
              "      <td>19</td>\n",
              "      <td>0.187852</td>\n",
              "    </tr>\n",
              "    <tr>\n",
              "      <th>2011-01-21</th>\n",
              "      <td>1</td>\n",
              "      <td>AA</td>\n",
              "      <td>$16.19</td>\n",
              "      <td>$16.38</td>\n",
              "      <td>$15.60</td>\n",
              "      <td>$15.79</td>\n",
              "      <td>138428495</td>\n",
              "      <td>-2.47066</td>\n",
              "      <td>-43.024959</td>\n",
              "      <td>242963398.0</td>\n",
              "      <td>$15.87</td>\n",
              "      <td>$16.13</td>\n",
              "      <td>1.638310</td>\n",
              "      <td>12</td>\n",
              "      <td>0.189994</td>\n",
              "    </tr>\n",
              "    <tr>\n",
              "      <th>2011-01-28</th>\n",
              "      <td>1</td>\n",
              "      <td>AA</td>\n",
              "      <td>$15.87</td>\n",
              "      <td>$16.63</td>\n",
              "      <td>$15.82</td>\n",
              "      <td>$16.13</td>\n",
              "      <td>151379173</td>\n",
              "      <td>1.63831</td>\n",
              "      <td>9.355500</td>\n",
              "      <td>138428495.0</td>\n",
              "      <td>$16.18</td>\n",
              "      <td>$17.14</td>\n",
              "      <td>5.933250</td>\n",
              "      <td>5</td>\n",
              "      <td>0.185989</td>\n",
              "    </tr>\n",
              "    <tr>\n",
              "      <th>2011-02-04</th>\n",
              "      <td>1</td>\n",
              "      <td>AA</td>\n",
              "      <td>$16.18</td>\n",
              "      <td>$17.39</td>\n",
              "      <td>$16.18</td>\n",
              "      <td>$17.14</td>\n",
              "      <td>154387761</td>\n",
              "      <td>5.93325</td>\n",
              "      <td>1.987452</td>\n",
              "      <td>151379173.0</td>\n",
              "      <td>$17.33</td>\n",
              "      <td>$17.37</td>\n",
              "      <td>0.230814</td>\n",
              "      <td>97</td>\n",
              "      <td>0.175029</td>\n",
              "    </tr>\n",
              "  </tbody>\n",
              "</table>\n",
              "</div>\n",
              "    <div class=\"colab-df-buttons\">\n",
              "\n",
              "  <div class=\"colab-df-container\">\n",
              "    <button class=\"colab-df-convert\" onclick=\"convertToInteractive('df-778e93c0-a2e1-4ff2-89be-cc25910d6027')\"\n",
              "            title=\"Convert this dataframe to an interactive table.\"\n",
              "            style=\"display:none;\">\n",
              "\n",
              "  <svg xmlns=\"http://www.w3.org/2000/svg\" height=\"24px\" viewBox=\"0 -960 960 960\">\n",
              "    <path d=\"M120-120v-720h720v720H120Zm60-500h600v-160H180v160Zm220 220h160v-160H400v160Zm0 220h160v-160H400v160ZM180-400h160v-160H180v160Zm440 0h160v-160H620v160ZM180-180h160v-160H180v160Zm440 0h160v-160H620v160Z\"/>\n",
              "  </svg>\n",
              "    </button>\n",
              "\n",
              "  <style>\n",
              "    .colab-df-container {\n",
              "      display:flex;\n",
              "      gap: 12px;\n",
              "    }\n",
              "\n",
              "    .colab-df-convert {\n",
              "      background-color: #E8F0FE;\n",
              "      border: none;\n",
              "      border-radius: 50%;\n",
              "      cursor: pointer;\n",
              "      display: none;\n",
              "      fill: #1967D2;\n",
              "      height: 32px;\n",
              "      padding: 0 0 0 0;\n",
              "      width: 32px;\n",
              "    }\n",
              "\n",
              "    .colab-df-convert:hover {\n",
              "      background-color: #E2EBFA;\n",
              "      box-shadow: 0px 1px 2px rgba(60, 64, 67, 0.3), 0px 1px 3px 1px rgba(60, 64, 67, 0.15);\n",
              "      fill: #174EA6;\n",
              "    }\n",
              "\n",
              "    .colab-df-buttons div {\n",
              "      margin-bottom: 4px;\n",
              "    }\n",
              "\n",
              "    [theme=dark] .colab-df-convert {\n",
              "      background-color: #3B4455;\n",
              "      fill: #D2E3FC;\n",
              "    }\n",
              "\n",
              "    [theme=dark] .colab-df-convert:hover {\n",
              "      background-color: #434B5C;\n",
              "      box-shadow: 0px 1px 3px 1px rgba(0, 0, 0, 0.15);\n",
              "      filter: drop-shadow(0px 1px 2px rgba(0, 0, 0, 0.3));\n",
              "      fill: #FFFFFF;\n",
              "    }\n",
              "  </style>\n",
              "\n",
              "    <script>\n",
              "      const buttonEl =\n",
              "        document.querySelector('#df-778e93c0-a2e1-4ff2-89be-cc25910d6027 button.colab-df-convert');\n",
              "      buttonEl.style.display =\n",
              "        google.colab.kernel.accessAllowed ? 'block' : 'none';\n",
              "\n",
              "      async function convertToInteractive(key) {\n",
              "        const element = document.querySelector('#df-778e93c0-a2e1-4ff2-89be-cc25910d6027');\n",
              "        const dataTable =\n",
              "          await google.colab.kernel.invokeFunction('convertToInteractive',\n",
              "                                                    [key], {});\n",
              "        if (!dataTable) return;\n",
              "\n",
              "        const docLinkHtml = 'Like what you see? Visit the ' +\n",
              "          '<a target=\"_blank\" href=https://colab.research.google.com/notebooks/data_table.ipynb>data table notebook</a>'\n",
              "          + ' to learn more about interactive tables.';\n",
              "        element.innerHTML = '';\n",
              "        dataTable['output_type'] = 'display_data';\n",
              "        await google.colab.output.renderOutput(dataTable, element);\n",
              "        const docLink = document.createElement('div');\n",
              "        docLink.innerHTML = docLinkHtml;\n",
              "        element.appendChild(docLink);\n",
              "      }\n",
              "    </script>\n",
              "  </div>\n",
              "\n",
              "\n",
              "<div id=\"df-cf6b8f5e-6b2f-4fb2-bb8e-23280ec878d1\">\n",
              "  <button class=\"colab-df-quickchart\" onclick=\"quickchart('df-cf6b8f5e-6b2f-4fb2-bb8e-23280ec878d1')\"\n",
              "            title=\"Suggest charts\"\n",
              "            style=\"display:none;\">\n",
              "\n",
              "<svg xmlns=\"http://www.w3.org/2000/svg\" height=\"24px\"viewBox=\"0 0 24 24\"\n",
              "     width=\"24px\">\n",
              "    <g>\n",
              "        <path d=\"M19 3H5c-1.1 0-2 .9-2 2v14c0 1.1.9 2 2 2h14c1.1 0 2-.9 2-2V5c0-1.1-.9-2-2-2zM9 17H7v-7h2v7zm4 0h-2V7h2v10zm4 0h-2v-4h2v4z\"/>\n",
              "    </g>\n",
              "</svg>\n",
              "  </button>\n",
              "\n",
              "<style>\n",
              "  .colab-df-quickchart {\n",
              "      --bg-color: #E8F0FE;\n",
              "      --fill-color: #1967D2;\n",
              "      --hover-bg-color: #E2EBFA;\n",
              "      --hover-fill-color: #174EA6;\n",
              "      --disabled-fill-color: #AAA;\n",
              "      --disabled-bg-color: #DDD;\n",
              "  }\n",
              "\n",
              "  [theme=dark] .colab-df-quickchart {\n",
              "      --bg-color: #3B4455;\n",
              "      --fill-color: #D2E3FC;\n",
              "      --hover-bg-color: #434B5C;\n",
              "      --hover-fill-color: #FFFFFF;\n",
              "      --disabled-bg-color: #3B4455;\n",
              "      --disabled-fill-color: #666;\n",
              "  }\n",
              "\n",
              "  .colab-df-quickchart {\n",
              "    background-color: var(--bg-color);\n",
              "    border: none;\n",
              "    border-radius: 50%;\n",
              "    cursor: pointer;\n",
              "    display: none;\n",
              "    fill: var(--fill-color);\n",
              "    height: 32px;\n",
              "    padding: 0;\n",
              "    width: 32px;\n",
              "  }\n",
              "\n",
              "  .colab-df-quickchart:hover {\n",
              "    background-color: var(--hover-bg-color);\n",
              "    box-shadow: 0 1px 2px rgba(60, 64, 67, 0.3), 0 1px 3px 1px rgba(60, 64, 67, 0.15);\n",
              "    fill: var(--button-hover-fill-color);\n",
              "  }\n",
              "\n",
              "  .colab-df-quickchart-complete:disabled,\n",
              "  .colab-df-quickchart-complete:disabled:hover {\n",
              "    background-color: var(--disabled-bg-color);\n",
              "    fill: var(--disabled-fill-color);\n",
              "    box-shadow: none;\n",
              "  }\n",
              "\n",
              "  .colab-df-spinner {\n",
              "    border: 2px solid var(--fill-color);\n",
              "    border-color: transparent;\n",
              "    border-bottom-color: var(--fill-color);\n",
              "    animation:\n",
              "      spin 1s steps(1) infinite;\n",
              "  }\n",
              "\n",
              "  @keyframes spin {\n",
              "    0% {\n",
              "      border-color: transparent;\n",
              "      border-bottom-color: var(--fill-color);\n",
              "      border-left-color: var(--fill-color);\n",
              "    }\n",
              "    20% {\n",
              "      border-color: transparent;\n",
              "      border-left-color: var(--fill-color);\n",
              "      border-top-color: var(--fill-color);\n",
              "    }\n",
              "    30% {\n",
              "      border-color: transparent;\n",
              "      border-left-color: var(--fill-color);\n",
              "      border-top-color: var(--fill-color);\n",
              "      border-right-color: var(--fill-color);\n",
              "    }\n",
              "    40% {\n",
              "      border-color: transparent;\n",
              "      border-right-color: var(--fill-color);\n",
              "      border-top-color: var(--fill-color);\n",
              "    }\n",
              "    60% {\n",
              "      border-color: transparent;\n",
              "      border-right-color: var(--fill-color);\n",
              "    }\n",
              "    80% {\n",
              "      border-color: transparent;\n",
              "      border-right-color: var(--fill-color);\n",
              "      border-bottom-color: var(--fill-color);\n",
              "    }\n",
              "    90% {\n",
              "      border-color: transparent;\n",
              "      border-bottom-color: var(--fill-color);\n",
              "    }\n",
              "  }\n",
              "</style>\n",
              "\n",
              "  <script>\n",
              "    async function quickchart(key) {\n",
              "      const quickchartButtonEl =\n",
              "        document.querySelector('#' + key + ' button');\n",
              "      quickchartButtonEl.disabled = true;  // To prevent multiple clicks.\n",
              "      quickchartButtonEl.classList.add('colab-df-spinner');\n",
              "      try {\n",
              "        const charts = await google.colab.kernel.invokeFunction(\n",
              "            'suggestCharts', [key], {});\n",
              "      } catch (error) {\n",
              "        console.error('Error during call to suggestCharts:', error);\n",
              "      }\n",
              "      quickchartButtonEl.classList.remove('colab-df-spinner');\n",
              "      quickchartButtonEl.classList.add('colab-df-quickchart-complete');\n",
              "    }\n",
              "    (() => {\n",
              "      let quickchartButtonEl =\n",
              "        document.querySelector('#df-cf6b8f5e-6b2f-4fb2-bb8e-23280ec878d1 button');\n",
              "      quickchartButtonEl.style.display =\n",
              "        google.colab.kernel.accessAllowed ? 'block' : 'none';\n",
              "    })();\n",
              "  </script>\n",
              "</div>\n",
              "\n",
              "    </div>\n",
              "  </div>\n"
            ],
            "application/vnd.google.colaboratory.intrinsic+json": {
              "type": "dataframe",
              "variable_name": "dataFrame",
              "summary": "{\n  \"name\": \"dataFrame\",\n  \"rows\": 750,\n  \"fields\": [\n    {\n      \"column\": \"date\",\n      \"properties\": {\n        \"dtype\": \"date\",\n        \"min\": \"2011-01-07 00:00:00\",\n        \"max\": \"2011-06-24 00:00:00\",\n        \"num_unique_values\": 25,\n        \"samples\": [\n          \"2011-03-04 00:00:00\",\n          \"2011-04-29 00:00:00\",\n          \"2011-01-07 00:00:00\"\n        ],\n        \"semantic_type\": \"\",\n        \"description\": \"\"\n      }\n    },\n    {\n      \"column\": \"quarter\",\n      \"properties\": {\n        \"dtype\": \"number\",\n        \"std\": 0,\n        \"min\": 1,\n        \"max\": 2,\n        \"num_unique_values\": 2,\n        \"samples\": [\n          2,\n          1\n        ],\n        \"semantic_type\": \"\",\n        \"description\": \"\"\n      }\n    },\n    {\n      \"column\": \"stock\",\n      \"properties\": {\n        \"dtype\": \"category\",\n        \"num_unique_values\": 30,\n        \"samples\": [\n          \"VZ\",\n          \"JPM\"\n        ],\n        \"semantic_type\": \"\",\n        \"description\": \"\"\n      }\n    },\n    {\n      \"column\": \"open\",\n      \"properties\": {\n        \"dtype\": \"string\",\n        \"num_unique_values\": 722,\n        \"samples\": [\n          \"$51.75\",\n          \"$20.44\"\n        ],\n        \"semantic_type\": \"\",\n        \"description\": \"\"\n      }\n    },\n    {\n      \"column\": \"high\",\n      \"properties\": {\n        \"dtype\": \"string\",\n        \"num_unique_values\": 713,\n        \"samples\": [\n          \"$35.89\",\n          \"$55.38\"\n        ],\n        \"semantic_type\": \"\",\n        \"description\": \"\"\n      }\n    },\n    {\n      \"column\": \"low\",\n      \"properties\": {\n        \"dtype\": \"string\",\n        \"num_unique_values\": 711,\n        \"samples\": [\n          \"$162.87\",\n          \"$10.40\"\n        ],\n        \"semantic_type\": \"\",\n        \"description\": \"\"\n      }\n    },\n    {\n      \"column\": \"close\",\n      \"properties\": {\n        \"dtype\": \"string\",\n        \"num_unique_values\": 711,\n        \"samples\": [\n          \"$164.44\",\n          \"$10.80\"\n        ],\n        \"semantic_type\": \"\",\n        \"description\": \"\"\n      }\n    },\n    {\n      \"column\": \"volume\",\n      \"properties\": {\n        \"dtype\": \"number\",\n        \"std\": 158438089,\n        \"min\": 9718851,\n        \"max\": 1453438639,\n        \"num_unique_values\": 750,\n        \"samples\": [\n          46244533,\n          92727886\n        ],\n        \"semantic_type\": \"\",\n        \"description\": \"\"\n      }\n    },\n    {\n      \"column\": \"percent_change_price\",\n      \"properties\": {\n        \"dtype\": \"number\",\n        \"std\": 2.5178092070482716,\n        \"min\": -15.4229,\n        \"max\": 9.88223,\n        \"num_unique_values\": 745,\n        \"samples\": [\n          0.385109,\n          -0.85885\n        ],\n        \"semantic_type\": \"\",\n        \"description\": \"\"\n      }\n    },\n    {\n      \"column\": \"percent_change_volume_over_last_wk\",\n      \"properties\": {\n        \"dtype\": \"number\",\n        \"std\": 40.543478186643185,\n        \"min\": -61.43317522,\n        \"max\": 327.4089238,\n        \"num_unique_values\": 720,\n        \"samples\": [\n          23.09498459,\n          6.06869297\n        ],\n        \"semantic_type\": \"\",\n        \"description\": \"\"\n      }\n    },\n    {\n      \"column\": \"previous_weeks_volume\",\n      \"properties\": {\n        \"dtype\": \"number\",\n        \"std\": 159232227.99587056,\n        \"min\": 9718851.0,\n        \"max\": 1453438639.0,\n        \"num_unique_values\": 720,\n        \"samples\": [\n          77152591.0,\n          15689029.0\n        ],\n        \"semantic_type\": \"\",\n        \"description\": \"\"\n      }\n    },\n    {\n      \"column\": \"next_weeks_open\",\n      \"properties\": {\n        \"dtype\": \"string\",\n        \"num_unique_values\": 720,\n        \"samples\": [\n          \"$75.13\",\n          \"$28.77\"\n        ],\n        \"semantic_type\": \"\",\n        \"description\": \"\"\n      }\n    },\n    {\n      \"column\": \"next_weeks_close\",\n      \"properties\": {\n        \"dtype\": \"string\",\n        \"num_unique_values\": 715,\n        \"samples\": [\n          \"$36.70\",\n          \"$64.93\"\n        ],\n        \"semantic_type\": \"\",\n        \"description\": \"\"\n      }\n    },\n    {\n      \"column\": \"percent_change_next_weeks_price\",\n      \"properties\": {\n        \"dtype\": \"number\",\n        \"std\": 2.679538347014115,\n        \"min\": -15.4229,\n        \"max\": 9.88223,\n        \"num_unique_values\": 745,\n        \"samples\": [\n          1.43609,\n          -2.77257\n        ],\n        \"semantic_type\": \"\",\n        \"description\": \"\"\n      }\n    },\n    {\n      \"column\": \"days_to_next_dividend\",\n      \"properties\": {\n        \"dtype\": \"number\",\n        \"std\": 46,\n        \"min\": 0,\n        \"max\": 336,\n        \"num_unique_values\": 105,\n        \"samples\": [\n          32,\n          45\n        ],\n        \"semantic_type\": \"\",\n        \"description\": \"\"\n      }\n    },\n    {\n      \"column\": \"percent_return_next_dividend\",\n      \"properties\": {\n        \"dtype\": \"number\",\n        \"std\": 0.3054818714776619,\n        \"min\": 0.0655738,\n        \"max\": 1.56421,\n        \"num_unique_values\": 729,\n        \"samples\": [\n          0.69965,\n          0.457736\n        ],\n        \"semantic_type\": \"\",\n        \"description\": \"\"\n      }\n    }\n  ]\n}"
            }
          },
          "metadata": {},
          "execution_count": 1
        }
      ]
    },
    {
      "cell_type": "code",
      "source": [
        "close_XOM_Ts = dataFrame[(dataFrame.stock == 'XOM')].close.str.replace('$',' ').astype(float)"
      ],
      "metadata": {
        "id": "C5ODxE5eS5mT"
      },
      "execution_count": null,
      "outputs": []
    },
    {
      "cell_type": "code",
      "source": [
        "from statsmodels.tsa.stattools import adfuller\n"
      ],
      "metadata": {
        "id": "7nb6SmWHS8cd"
      },
      "execution_count": null,
      "outputs": []
    },
    {
      "cell_type": "code",
      "source": [
        "tsResult = adfuller(close_XOM_Ts)\n",
        "print('ADF Statistic: %f' % tsResult[0])\n",
        "print('p-value: %f' % tsResult[1])\n",
        "for key, value in tsResult[4].items():\n",
        "    print('\\t%s: %.3f' % (key, value))"
      ],
      "metadata": {
        "colab": {
          "base_uri": "https://localhost:8080/"
        },
        "id": "mlWMM51eT1my",
        "outputId": "9ef707d5-081c-4494-94b7-8bbd34f24300"
      },
      "execution_count": null,
      "outputs": [
        {
          "output_type": "stream",
          "name": "stdout",
          "text": [
            "ADF Statistic: 0.913251\n",
            "p-value: 0.993261\n",
            "\t1%: -3.964\n",
            "\t5%: -3.085\n",
            "\t10%: -2.682\n"
          ]
        }
      ]
    },
    {
      "cell_type": "code",
      "source": [
        "ADF_stat = tsResult[0]\n",
        "p_value = tsResult[1]\n",
        "print(ADF_stat)\n",
        "print(p_value)"
      ],
      "metadata": {
        "colab": {
          "base_uri": "https://localhost:8080/"
        },
        "id": "212_cwghT8rk",
        "outputId": "6d8c4c98-b6bd-4e6c-c9b0-7e871b1c4502"
      },
      "execution_count": null,
      "outputs": [
        {
          "output_type": "stream",
          "name": "stdout",
          "text": [
            "0.9132512859392716\n",
            "0.9932608452043599\n"
          ]
        }
      ]
    },
    {
      "cell_type": "code",
      "source": [
        "primes = [2,3,5,7,11,13,17,19,23,29]\n",
        "squared = [x**2 for x in primes if( x % 10) == 3]\n",
        "print(squared)"
      ],
      "metadata": {
        "colab": {
          "base_uri": "https://localhost:8080/"
        },
        "id": "3pw7EjccT-B0",
        "outputId": "6d96f704-adaf-4618-94d6-e91eca340222"
      },
      "execution_count": null,
      "outputs": [
        {
          "output_type": "stream",
          "name": "stdout",
          "text": [
            "[9, 169, 529]\n"
          ]
        }
      ]
    },
    {
      "cell_type": "code",
      "source": [
        "import numpy as np\n",
        "import matplotlib.pyplot as plt\n",
        "\n",
        "x = np.array([1,2,3,4,5,6,7,8,9,10])\n",
        "y = np.array([1,2,3,4,5,6,7,8,9,10])\n",
        "sin_x = np.sin(x)\n",
        "print(sin_x)\n",
        "\n",
        "cos_y = np.cos(y)\n",
        "print(cos_y)\n",
        "\n",
        "plt.plot(x, sin_x)\n",
        "plt.plot(y, cos_y)\n",
        "plt.show()"
      ],
      "metadata": {
        "id": "8gwYrE7Ic1BR",
        "colab": {
          "base_uri": "https://localhost:8080/",
          "height": 499
        },
        "outputId": "a60544a7-e009-4a0f-928f-14c172b1f99d"
      },
      "execution_count": null,
      "outputs": [
        {
          "output_type": "stream",
          "name": "stdout",
          "text": [
            "[ 0.84147098  0.90929743  0.14112001 -0.7568025  -0.95892427 -0.2794155\n",
            "  0.6569866   0.98935825  0.41211849 -0.54402111]\n",
            "[ 0.54030231 -0.41614684 -0.9899925  -0.65364362  0.28366219  0.96017029\n",
            "  0.75390225 -0.14550003 -0.91113026 -0.83907153]\n"
          ]
        },
        {
          "output_type": "display_data",
          "data": {
            "text/plain": [
              "<Figure size 640x480 with 1 Axes>"
            ],
            "image/png": "[encoded data removed]"
          },
          "metadata": {}
        }
      ]
    },
    {
      "cell_type": "code",
      "source": [],
      "metadata": {
        "id": "0AxopjCmHKru"
      },
      "execution_count": null,
      "outputs": []
    }
  ]
}